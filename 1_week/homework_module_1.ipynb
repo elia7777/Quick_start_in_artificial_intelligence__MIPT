{
 "cells": [
  {
   "cell_type": "markdown",
   "metadata": {
    "colab_type": "text",
    "id": "Vj5n0vGzsZ3c"
   },
   "source": [
    "# Домашнее задание. Титаник\n",
    "В этом домашнем задании вам предлагается решить задачу предсказания выживших пассажиров Титаника. Эту задачу машинного обучения рано или поздно решает, наверное, любой, кто обучается анализу данных. Информация о датасете доступна по <a href=https://www.kaggle.com/c/titanic.>ссылке</a>."
   ]
  },
  {
   "cell_type": "code",
   "execution_count": 270,
   "metadata": {
    "colab": {},
    "colab_type": "code",
    "id": "yDzNf07lsZ3d"
   },
   "outputs": [],
   "source": [
    "import numpy as np\n",
    "import pandas as pd\n",
    "import matplotlib.pyplot as plt\n",
    "%matplotlib inline\n",
    "import seaborn as sns"
   ]
  },
  {
   "cell_type": "markdown",
   "metadata": {
    "colab_type": "text",
    "id": "2WwMMFNusZ3j"
   },
   "source": [
    "## Загрузка данных\n",
    "\n",
    "Загрузим датасет Titanic из приложенных файлов. В первом файле находится информация о пассажирах, во втором -- информация о том, выжил пассажир или нет.\n",
    "\n",
    "Если вы запускаете ноутбук на Google Colab, самым простым способом загрузить данные в ноутбук будет примонтировать к Colab ваш Google Drive. Для этого сначала положите в свою корневую директорию Google Drive  файлы, приложенные к этому ноутбуку, а затем выполните три закоментированные строчки в клетке ниже. <a href=https://www.machinelearningmastery.ru/downloading-datasets-into-google-drive-via-google-colab-bcb1b30b0166/>Подробная инструкция по работе с Google Drive + Google Colab</a>"
   ]
  },
  {
   "cell_type": "code",
   "execution_count": 271,
   "metadata": {
    "colab": {
     "base_uri": "https://localhost:8080/",
     "height": 34
    },
    "colab_type": "code",
    "id": "HTBZcUNDs65w",
    "outputId": "be52f41c-d2bc-42c0-aaf3-04bfabf18cad"
   },
   "outputs": [
    {
     "name": "stdout",
     "output_type": "stream",
     "text": [
      "Drive already mounted at /content/drive; to attempt to forcibly remount, call drive.mount(\"/content/drive\", force_remount=True).\n"
     ]
    }
   ],
   "source": [
    "from google.colab import drive\n",
    "drive.mount('/content/drive')"
   ]
  },
  {
   "cell_type": "code",
   "execution_count": 272,
   "metadata": {
    "colab": {},
    "colab_type": "code",
    "id": "upzYlA7HtAeW"
   },
   "outputs": [],
   "source": [
    "data = pd.read_csv('/content/drive/My Drive/titanic_data.csv', index_col='PassengerId')"
   ]
  },
  {
   "cell_type": "code",
   "execution_count": 273,
   "metadata": {
    "colab": {
     "base_uri": "https://localhost:8080/",
     "height": 252
    },
    "colab_type": "code",
    "id": "SY5DxvCesZ3q",
    "outputId": "4fa2e164-3dec-49da-d450-dfc11e5fc6c0"
   },
   "outputs": [
    {
     "name": "stdout",
     "output_type": "stream",
     "text": [
      "Всего 891 пассажиров в выборке\n"
     ]
    },
    {
     "data": {
      "text/html": [
       "<div>\n",
       "<style scoped>\n",
       "    .dataframe tbody tr th:only-of-type {\n",
       "        vertical-align: middle;\n",
       "    }\n",
       "\n",
       "    .dataframe tbody tr th {\n",
       "        vertical-align: top;\n",
       "    }\n",
       "\n",
       "    .dataframe thead th {\n",
       "        text-align: right;\n",
       "    }\n",
       "</style>\n",
       "<table border=\"1\" class=\"dataframe\">\n",
       "  <thead>\n",
       "    <tr style=\"text-align: right;\">\n",
       "      <th></th>\n",
       "      <th>Pclass</th>\n",
       "      <th>Name</th>\n",
       "      <th>Sex</th>\n",
       "      <th>Age</th>\n",
       "      <th>SibSp</th>\n",
       "      <th>Parch</th>\n",
       "      <th>Ticket</th>\n",
       "      <th>Fare</th>\n",
       "      <th>Cabin</th>\n",
       "      <th>Embarked</th>\n",
       "    </tr>\n",
       "    <tr>\n",
       "      <th>PassengerId</th>\n",
       "      <th></th>\n",
       "      <th></th>\n",
       "      <th></th>\n",
       "      <th></th>\n",
       "      <th></th>\n",
       "      <th></th>\n",
       "      <th></th>\n",
       "      <th></th>\n",
       "      <th></th>\n",
       "      <th></th>\n",
       "    </tr>\n",
       "  </thead>\n",
       "  <tbody>\n",
       "    <tr>\n",
       "      <th>1</th>\n",
       "      <td>3</td>\n",
       "      <td>Braund, Mr. Owen Harris</td>\n",
       "      <td>male</td>\n",
       "      <td>22.0</td>\n",
       "      <td>1</td>\n",
       "      <td>0</td>\n",
       "      <td>A/5 21171</td>\n",
       "      <td>7.2500</td>\n",
       "      <td>NaN</td>\n",
       "      <td>S</td>\n",
       "    </tr>\n",
       "    <tr>\n",
       "      <th>2</th>\n",
       "      <td>1</td>\n",
       "      <td>Cumings, Mrs. John Bradley (Florence Briggs Th...</td>\n",
       "      <td>female</td>\n",
       "      <td>38.0</td>\n",
       "      <td>1</td>\n",
       "      <td>0</td>\n",
       "      <td>PC 17599</td>\n",
       "      <td>71.2833</td>\n",
       "      <td>C85</td>\n",
       "      <td>C</td>\n",
       "    </tr>\n",
       "    <tr>\n",
       "      <th>3</th>\n",
       "      <td>3</td>\n",
       "      <td>Heikkinen, Miss. Laina</td>\n",
       "      <td>female</td>\n",
       "      <td>26.0</td>\n",
       "      <td>0</td>\n",
       "      <td>0</td>\n",
       "      <td>STON/O2. 3101282</td>\n",
       "      <td>7.9250</td>\n",
       "      <td>NaN</td>\n",
       "      <td>S</td>\n",
       "    </tr>\n",
       "    <tr>\n",
       "      <th>4</th>\n",
       "      <td>1</td>\n",
       "      <td>Futrelle, Mrs. Jacques Heath (Lily May Peel)</td>\n",
       "      <td>female</td>\n",
       "      <td>35.0</td>\n",
       "      <td>1</td>\n",
       "      <td>0</td>\n",
       "      <td>113803</td>\n",
       "      <td>53.1000</td>\n",
       "      <td>C123</td>\n",
       "      <td>S</td>\n",
       "    </tr>\n",
       "    <tr>\n",
       "      <th>5</th>\n",
       "      <td>3</td>\n",
       "      <td>Allen, Mr. William Henry</td>\n",
       "      <td>male</td>\n",
       "      <td>35.0</td>\n",
       "      <td>0</td>\n",
       "      <td>0</td>\n",
       "      <td>373450</td>\n",
       "      <td>8.0500</td>\n",
       "      <td>NaN</td>\n",
       "      <td>S</td>\n",
       "    </tr>\n",
       "  </tbody>\n",
       "</table>\n",
       "</div>"
      ],
      "text/plain": [
       "             Pclass  ... Embarked\n",
       "PassengerId          ...         \n",
       "1                 3  ...        S\n",
       "2                 1  ...        C\n",
       "3                 3  ...        S\n",
       "4                 1  ...        S\n",
       "5                 3  ...        S\n",
       "\n",
       "[5 rows x 10 columns]"
      ]
     },
     "execution_count": 273,
     "metadata": {
      "tags": []
     },
     "output_type": "execute_result"
    }
   ],
   "source": [
    "basic_features = data.columns\n",
    "\n",
    "y = pd.read_csv('/content/drive/My Drive/titanic_surv.csv')\n",
    "y.index = data.index\n",
    "\n",
    "print(f'Всего {len(data)} пассажиров в выборке')\n",
    "data.head()"
   ]
  },
  {
   "cell_type": "code",
   "execution_count": 274,
   "metadata": {
    "colab": {
     "base_uri": "https://localhost:8080/",
     "height": 235
    },
    "colab_type": "code",
    "id": "VSLx92OIsZ3w",
    "outputId": "9ed2b359-9efc-4003-b742-3667ce41b19f"
   },
   "outputs": [
    {
     "data": {
      "text/html": [
       "<div>\n",
       "<style scoped>\n",
       "    .dataframe tbody tr th:only-of-type {\n",
       "        vertical-align: middle;\n",
       "    }\n",
       "\n",
       "    .dataframe tbody tr th {\n",
       "        vertical-align: top;\n",
       "    }\n",
       "\n",
       "    .dataframe thead th {\n",
       "        text-align: right;\n",
       "    }\n",
       "</style>\n",
       "<table border=\"1\" class=\"dataframe\">\n",
       "  <thead>\n",
       "    <tr style=\"text-align: right;\">\n",
       "      <th></th>\n",
       "      <th>Survived</th>\n",
       "    </tr>\n",
       "    <tr>\n",
       "      <th>PassengerId</th>\n",
       "      <th></th>\n",
       "    </tr>\n",
       "  </thead>\n",
       "  <tbody>\n",
       "    <tr>\n",
       "      <th>1</th>\n",
       "      <td>0</td>\n",
       "    </tr>\n",
       "    <tr>\n",
       "      <th>2</th>\n",
       "      <td>1</td>\n",
       "    </tr>\n",
       "    <tr>\n",
       "      <th>3</th>\n",
       "      <td>1</td>\n",
       "    </tr>\n",
       "    <tr>\n",
       "      <th>4</th>\n",
       "      <td>1</td>\n",
       "    </tr>\n",
       "    <tr>\n",
       "      <th>5</th>\n",
       "      <td>0</td>\n",
       "    </tr>\n",
       "  </tbody>\n",
       "</table>\n",
       "</div>"
      ],
      "text/plain": [
       "             Survived\n",
       "PassengerId          \n",
       "1                   0\n",
       "2                   1\n",
       "3                   1\n",
       "4                   1\n",
       "5                   0"
      ]
     },
     "execution_count": 274,
     "metadata": {
      "tags": []
     },
     "output_type": "execute_result"
    }
   ],
   "source": [
    "y.head()"
   ]
  },
  {
   "cell_type": "code",
   "execution_count": 275,
   "metadata": {
    "colab": {
     "base_uri": "https://localhost:8080/",
     "height": 235
    },
    "colab_type": "code",
    "id": "0RqyPksisZ31",
    "outputId": "8ec51c33-f973-4e06-d8e7-1790bc27574b"
   },
   "outputs": [
    {
     "data": {
      "text/html": [
       "<div>\n",
       "<style scoped>\n",
       "    .dataframe tbody tr th:only-of-type {\n",
       "        vertical-align: middle;\n",
       "    }\n",
       "\n",
       "    .dataframe tbody tr th {\n",
       "        vertical-align: top;\n",
       "    }\n",
       "\n",
       "    .dataframe thead th {\n",
       "        text-align: right;\n",
       "    }\n",
       "</style>\n",
       "<table border=\"1\" class=\"dataframe\">\n",
       "  <thead>\n",
       "    <tr style=\"text-align: right;\">\n",
       "      <th></th>\n",
       "      <th>Pclass</th>\n",
       "      <th>Name</th>\n",
       "      <th>Sex</th>\n",
       "      <th>Age</th>\n",
       "      <th>SibSp</th>\n",
       "      <th>Parch</th>\n",
       "      <th>Ticket</th>\n",
       "      <th>Fare</th>\n",
       "      <th>Cabin</th>\n",
       "      <th>Embarked</th>\n",
       "      <th>Survived</th>\n",
       "    </tr>\n",
       "    <tr>\n",
       "      <th>PassengerId</th>\n",
       "      <th></th>\n",
       "      <th></th>\n",
       "      <th></th>\n",
       "      <th></th>\n",
       "      <th></th>\n",
       "      <th></th>\n",
       "      <th></th>\n",
       "      <th></th>\n",
       "      <th></th>\n",
       "      <th></th>\n",
       "      <th></th>\n",
       "    </tr>\n",
       "  </thead>\n",
       "  <tbody>\n",
       "    <tr>\n",
       "      <th>1</th>\n",
       "      <td>3</td>\n",
       "      <td>Braund, Mr. Owen Harris</td>\n",
       "      <td>male</td>\n",
       "      <td>22.0</td>\n",
       "      <td>1</td>\n",
       "      <td>0</td>\n",
       "      <td>A/5 21171</td>\n",
       "      <td>7.2500</td>\n",
       "      <td>NaN</td>\n",
       "      <td>S</td>\n",
       "      <td>0</td>\n",
       "    </tr>\n",
       "    <tr>\n",
       "      <th>2</th>\n",
       "      <td>1</td>\n",
       "      <td>Cumings, Mrs. John Bradley (Florence Briggs Th...</td>\n",
       "      <td>female</td>\n",
       "      <td>38.0</td>\n",
       "      <td>1</td>\n",
       "      <td>0</td>\n",
       "      <td>PC 17599</td>\n",
       "      <td>71.2833</td>\n",
       "      <td>C85</td>\n",
       "      <td>C</td>\n",
       "      <td>1</td>\n",
       "    </tr>\n",
       "    <tr>\n",
       "      <th>3</th>\n",
       "      <td>3</td>\n",
       "      <td>Heikkinen, Miss. Laina</td>\n",
       "      <td>female</td>\n",
       "      <td>26.0</td>\n",
       "      <td>0</td>\n",
       "      <td>0</td>\n",
       "      <td>STON/O2. 3101282</td>\n",
       "      <td>7.9250</td>\n",
       "      <td>NaN</td>\n",
       "      <td>S</td>\n",
       "      <td>1</td>\n",
       "    </tr>\n",
       "    <tr>\n",
       "      <th>4</th>\n",
       "      <td>1</td>\n",
       "      <td>Futrelle, Mrs. Jacques Heath (Lily May Peel)</td>\n",
       "      <td>female</td>\n",
       "      <td>35.0</td>\n",
       "      <td>1</td>\n",
       "      <td>0</td>\n",
       "      <td>113803</td>\n",
       "      <td>53.1000</td>\n",
       "      <td>C123</td>\n",
       "      <td>S</td>\n",
       "      <td>1</td>\n",
       "    </tr>\n",
       "    <tr>\n",
       "      <th>5</th>\n",
       "      <td>3</td>\n",
       "      <td>Allen, Mr. William Henry</td>\n",
       "      <td>male</td>\n",
       "      <td>35.0</td>\n",
       "      <td>0</td>\n",
       "      <td>0</td>\n",
       "      <td>373450</td>\n",
       "      <td>8.0500</td>\n",
       "      <td>NaN</td>\n",
       "      <td>S</td>\n",
       "      <td>0</td>\n",
       "    </tr>\n",
       "  </tbody>\n",
       "</table>\n",
       "</div>"
      ],
      "text/plain": [
       "             Pclass  ... Survived\n",
       "PassengerId          ...         \n",
       "1                 3  ...        0\n",
       "2                 1  ...        1\n",
       "3                 3  ...        1\n",
       "4                 1  ...        1\n",
       "5                 3  ...        0\n",
       "\n",
       "[5 rows x 11 columns]"
      ]
     },
     "execution_count": 275,
     "metadata": {
      "tags": []
     },
     "output_type": "execute_result"
    }
   ],
   "source": [
    "data = data.join(y)\n",
    "data.head()"
   ]
  },
  {
   "cell_type": "markdown",
   "metadata": {
    "colab_type": "text",
    "id": "UgHzFd0RsZ35"
   },
   "source": [
    "## Исследование датасета\n",
    "\n",
    "### Задание 1 (1 балл)\n",
    "Опишите датасет. Сколько в нём мужчин, сколько женщин? Посчитайте распределение по классам пассажиров. Используйте функцию ``pd.Series.value_counts``. <a href=https://pandas.pydata.org/pandas-docs/stable/reference/api/pandas.Series.value_counts.html>Пример использования</a>\n",
    "\n",
    "Посчитайте долю выживших мужчин к общему количеству мужчин, а также женщин к общему количеству женщин. Сделайте выводы. \n",
    "Проведите схожую аналитику по возрасту выживших и по классу выживших. \n",
    "\n",
    "Вам поможет функция ``plt.hist()``. <a href=https://matplotlib.org/3.3.1/gallery/pyplots/pyplot_text.html#sphx-glr-gallery-pyplots-pyplot-text-py> Пример использования </a> "
   ]
  },
  {
   "cell_type": "markdown",
   "metadata": {
    "colab_type": "text",
    "id": "XZM_il0lvVg6"
   },
   "source": [
    "Посмотрим на рспределение по полу в процентом соотношении:"
   ]
  },
  {
   "cell_type": "code",
   "execution_count": 276,
   "metadata": {
    "colab": {
     "base_uri": "https://localhost:8080/",
     "height": 68
    },
    "colab_type": "code",
    "id": "mCueL2DIsZ37",
    "outputId": "0274c820-59f5-442d-f83e-28ac329609a4"
   },
   "outputs": [
    {
     "data": {
      "text/plain": [
       "male      64.758698\n",
       "female    35.241302\n",
       "Name: Sex, dtype: float64"
      ]
     },
     "execution_count": 276,
     "metadata": {
      "tags": []
     },
     "output_type": "execute_result"
    }
   ],
   "source": [
    "data['Sex'].value_counts(normalize=True) * 100"
   ]
  },
  {
   "cell_type": "code",
   "execution_count": 277,
   "metadata": {
    "colab": {
     "base_uri": "https://localhost:8080/",
     "height": 281
    },
    "colab_type": "code",
    "id": "sVCVzHlGxUMJ",
    "outputId": "472eed33-30f2-42ee-9973-a0abde4cc244"
   },
   "outputs": [
    {
     "data": {
      "image/png": "[encoded data removed]",
      "text/plain": [
       "<Figure size 432x288 with 1 Axes>"
      ]
     },
     "metadata": {
      "needs_background": "light",
      "tags": []
     },
     "output_type": "display_data"
    }
   ],
   "source": [
    "sns.countplot('Sex',data=data, )\n",
    "plt.show()"
   ]
  },
  {
   "cell_type": "markdown",
   "metadata": {
    "colab_type": "text",
    "id": "nBGhXhQtwIA7"
   },
   "source": [
    "Посчитаем распределение по классам в процентах:"
   ]
  },
  {
   "cell_type": "code",
   "execution_count": 278,
   "metadata": {
    "colab": {
     "base_uri": "https://localhost:8080/",
     "height": 85
    },
    "colab_type": "code",
    "id": "E1oHpA3QwW3E",
    "outputId": "70e2fa53-1ebe-4811-9ab3-a10eb11fc84c"
   },
   "outputs": [
    {
     "data": {
      "text/plain": [
       "3    55.106622\n",
       "1    24.242424\n",
       "2    20.650954\n",
       "Name: Pclass, dtype: float64"
      ]
     },
     "execution_count": 278,
     "metadata": {
      "tags": []
     },
     "output_type": "execute_result"
    }
   ],
   "source": [
    "data['Pclass'].value_counts(normalize=True) * 100"
   ]
  },
  {
   "cell_type": "code",
   "execution_count": 279,
   "metadata": {
    "colab": {
     "base_uri": "https://localhost:8080/",
     "height": 279
    },
    "colab_type": "code",
    "id": "h7qMr1oxwW0D",
    "outputId": "c761ccd2-4db0-486d-8429-e2d5bada2aa9"
   },
   "outputs": [
    {
     "data": {
      "image/png": "[encoded data removed]",
      "text/plain": [
       "<Figure size 432x288 with 1 Axes>"
      ]
     },
     "metadata": {
      "needs_background": "light",
      "tags": []
     },
     "output_type": "display_data"
    }
   ],
   "source": [
    "sns.countplot('Pclass',data=data, orient='h' )\n",
    "plt.show()"
   ]
  },
  {
   "cell_type": "markdown",
   "metadata": {
    "colab_type": "text",
    "id": "diEEAQm06HbB"
   },
   "source": [
    "Посчитаем долю выживших мужчин к общему количеству мужчин, а также женщин к общему количеству женщин:"
   ]
  },
  {
   "cell_type": "code",
   "execution_count": 280,
   "metadata": {
    "colab": {
     "base_uri": "https://localhost:8080/",
     "height": 85
    },
    "colab_type": "code",
    "id": "L7ElPczgJ1ag",
    "outputId": "5d7089ee-acc2-4f17-d57d-50122ed1d987"
   },
   "outputs": [
    {
     "data": {
      "text/plain": [
       "Sex\n",
       "female    74.203822\n",
       "male      18.890815\n",
       "Name: Survived, dtype: float64"
      ]
     },
     "execution_count": 280,
     "metadata": {
      "tags": []
     },
     "output_type": "execute_result"
    }
   ],
   "source": [
    "data.groupby(['Sex'])['Survived'].sum()/data.groupby(['Sex'])['Survived'].count()*100"
   ]
  },
  {
   "cell_type": "code",
   "execution_count": 281,
   "metadata": {
    "colab": {
     "base_uri": "https://localhost:8080/",
     "height": 119
    },
    "colab_type": "code",
    "id": "PZo0Q-fw6Nuj",
    "outputId": "538cb19f-cce5-434d-85f2-9c292639c2da"
   },
   "outputs": [
    {
     "data": {
      "text/plain": [
       "Sex     Survived\n",
       "female  0            81\n",
       "        1           233\n",
       "male    0           468\n",
       "        1           109\n",
       "Name: Survived, dtype: int64"
      ]
     },
     "execution_count": 281,
     "metadata": {
      "tags": []
     },
     "output_type": "execute_result"
    }
   ],
   "source": [
    "data.groupby(['Sex', 'Survived'])['Survived'].count()"
   ]
  },
  {
   "cell_type": "markdown",
   "metadata": {
    "colab_type": "text",
    "id": "GnPozkaA7dQm"
   },
   "source": [
    "Выжили 233 женщины из 314. А из 577 мужчин 109 выжили. Процент выживших у женщин 74,2%, у мужчин 18,9%"
   ]
  },
  {
   "cell_type": "code",
   "execution_count": 282,
   "metadata": {
    "colab": {
     "base_uri": "https://localhost:8080/",
     "height": 279
    },
    "colab_type": "code",
    "id": "LAU7lieW2XXG",
    "outputId": "8851bc46-0811-4689-cbb1-94da7960bf53"
   },
   "outputs": [
    {
     "data": {
      "image/png": "[encoded data removed]",
      "text/plain": [
       "<Figure size 432x288 with 1 Axes>"
      ]
     },
     "metadata": {
      "needs_background": "light",
      "tags": []
     },
     "output_type": "display_data"
    }
   ],
   "source": [
    "sns.countplot(x='Sex', hue='Survived', data=data)\n",
    "plt.show()"
   ]
  },
  {
   "cell_type": "markdown",
   "metadata": {
    "colab_type": "text",
    "id": "U5eaYD6O9MJA"
   },
   "source": [
    "Посчитаем долю выживших в разбивке по по классу."
   ]
  },
  {
   "cell_type": "code",
   "execution_count": 283,
   "metadata": {
    "colab": {
     "base_uri": "https://localhost:8080/",
     "height": 102
    },
    "colab_type": "code",
    "id": "M_jGeRYALB_n",
    "outputId": "2676a1a9-1e35-460c-badc-3550ec562d2b"
   },
   "outputs": [
    {
     "data": {
      "text/plain": [
       "Pclass\n",
       "1    62.962963\n",
       "2    47.282609\n",
       "3    24.236253\n",
       "Name: Survived, dtype: float64"
      ]
     },
     "execution_count": 283,
     "metadata": {
      "tags": []
     },
     "output_type": "execute_result"
    }
   ],
   "source": [
    "data.groupby(['Pclass'])['Survived'].sum()/data.groupby(['Pclass'])['Survived'].count()*100"
   ]
  },
  {
   "cell_type": "code",
   "execution_count": 284,
   "metadata": {
    "colab": {
     "base_uri": "https://localhost:8080/",
     "height": 153
    },
    "colab_type": "code",
    "id": "-uslffQb9BTl",
    "outputId": "a86c0972-576d-4cad-fc7f-166ff6235431"
   },
   "outputs": [
    {
     "data": {
      "text/plain": [
       "Pclass  Survived\n",
       "1       0            80\n",
       "        1           136\n",
       "2       0            97\n",
       "        1            87\n",
       "3       0           372\n",
       "        1           119\n",
       "Name: Survived, dtype: int64"
      ]
     },
     "execution_count": 284,
     "metadata": {
      "tags": []
     },
     "output_type": "execute_result"
    }
   ],
   "source": [
    "data.groupby(['Pclass', 'Survived'])['Survived'].count()"
   ]
  },
  {
   "cell_type": "code",
   "execution_count": 285,
   "metadata": {
    "colab": {
     "base_uri": "https://localhost:8080/",
     "height": 166
    },
    "colab_type": "code",
    "id": "rbtOiDRKAk1q",
    "outputId": "67030f1e-a57d-4f5e-8741-3aa6504b49ad"
   },
   "outputs": [
    {
     "data": {
      "text/html": [
       "<style  type=\"text/css\" >\n",
       "    #T_8a3b2bf8_f39a_11ea_b4b0_0242ac1c0002row0_col0 {\n",
       "            background-color:  #ffff66;\n",
       "            color:  #000000;\n",
       "        }    #T_8a3b2bf8_f39a_11ea_b4b0_0242ac1c0002row0_col1 {\n",
       "            background-color:  #ffff66;\n",
       "            color:  #000000;\n",
       "        }    #T_8a3b2bf8_f39a_11ea_b4b0_0242ac1c0002row0_col2 {\n",
       "            background-color:  #f1f866;\n",
       "            color:  #000000;\n",
       "        }    #T_8a3b2bf8_f39a_11ea_b4b0_0242ac1c0002row0_col3 {\n",
       "            background-color:  #ffff66;\n",
       "            color:  #000000;\n",
       "        }    #T_8a3b2bf8_f39a_11ea_b4b0_0242ac1c0002row1_col0 {\n",
       "            background-color:  #96cb66;\n",
       "            color:  #000000;\n",
       "        }    #T_8a3b2bf8_f39a_11ea_b4b0_0242ac1c0002row1_col1 {\n",
       "            background-color:  #a3d166;\n",
       "            color:  #000000;\n",
       "        }    #T_8a3b2bf8_f39a_11ea_b4b0_0242ac1c0002row1_col2 {\n",
       "            background-color:  #f1f866;\n",
       "            color:  #000000;\n",
       "        }    #T_8a3b2bf8_f39a_11ea_b4b0_0242ac1c0002row1_col3 {\n",
       "            background-color:  #cfe766;\n",
       "            color:  #000000;\n",
       "        }    #T_8a3b2bf8_f39a_11ea_b4b0_0242ac1c0002row2_col0 {\n",
       "            background-color:  #a7d366;\n",
       "            color:  #000000;\n",
       "        }    #T_8a3b2bf8_f39a_11ea_b4b0_0242ac1c0002row2_col1 {\n",
       "            background-color:  #85c266;\n",
       "            color:  #000000;\n",
       "        }    #T_8a3b2bf8_f39a_11ea_b4b0_0242ac1c0002row2_col2 {\n",
       "            background-color:  #6eb666;\n",
       "            color:  #000000;\n",
       "        }    #T_8a3b2bf8_f39a_11ea_b4b0_0242ac1c0002row2_col3 {\n",
       "            background-color:  #85c266;\n",
       "            color:  #000000;\n",
       "        }    #T_8a3b2bf8_f39a_11ea_b4b0_0242ac1c0002row3_col0 {\n",
       "            background-color:  #cde666;\n",
       "            color:  #000000;\n",
       "        }    #T_8a3b2bf8_f39a_11ea_b4b0_0242ac1c0002row3_col1 {\n",
       "            background-color:  #f0f866;\n",
       "            color:  #000000;\n",
       "        }    #T_8a3b2bf8_f39a_11ea_b4b0_0242ac1c0002row3_col2 {\n",
       "            background-color:  #ffff66;\n",
       "            color:  #000000;\n",
       "        }    #T_8a3b2bf8_f39a_11ea_b4b0_0242ac1c0002row3_col3 {\n",
       "            background-color:  #f7fb66;\n",
       "            color:  #000000;\n",
       "        }    #T_8a3b2bf8_f39a_11ea_b4b0_0242ac1c0002row4_col0 {\n",
       "            background-color:  #008066;\n",
       "            color:  #f1f1f1;\n",
       "        }    #T_8a3b2bf8_f39a_11ea_b4b0_0242ac1c0002row4_col1 {\n",
       "            background-color:  #008066;\n",
       "            color:  #f1f1f1;\n",
       "        }    #T_8a3b2bf8_f39a_11ea_b4b0_0242ac1c0002row4_col2 {\n",
       "            background-color:  #008066;\n",
       "            color:  #f1f1f1;\n",
       "        }    #T_8a3b2bf8_f39a_11ea_b4b0_0242ac1c0002row4_col3 {\n",
       "            background-color:  #008066;\n",
       "            color:  #f1f1f1;\n",
       "        }</style><table id=\"T_8a3b2bf8_f39a_11ea_b4b0_0242ac1c0002\" ><thead>    <tr>        <th class=\"blank\" ></th>        <th class=\"index_name level0\" >Pclass</th>        <th class=\"col_heading level0 col0\" >1</th>        <th class=\"col_heading level0 col1\" >2</th>        <th class=\"col_heading level0 col2\" >3</th>        <th class=\"col_heading level0 col3\" >All</th>    </tr>    <tr>        <th class=\"index_name level0\" >Sex</th>        <th class=\"index_name level1\" >Survived</th>        <th class=\"blank\" ></th>        <th class=\"blank\" ></th>        <th class=\"blank\" ></th>        <th class=\"blank\" ></th>    </tr></thead><tbody>\n",
       "                <tr>\n",
       "                        <th id=\"T_8a3b2bf8_f39a_11ea_b4b0_0242ac1c0002level0_row0\" class=\"row_heading level0 row0\" rowspan=2>female</th>\n",
       "                        <th id=\"T_8a3b2bf8_f39a_11ea_b4b0_0242ac1c0002level1_row0\" class=\"row_heading level1 row0\" >0</th>\n",
       "                        <td id=\"T_8a3b2bf8_f39a_11ea_b4b0_0242ac1c0002row0_col0\" class=\"data row0 col0\" >3</td>\n",
       "                        <td id=\"T_8a3b2bf8_f39a_11ea_b4b0_0242ac1c0002row0_col1\" class=\"data row0 col1\" >6</td>\n",
       "                        <td id=\"T_8a3b2bf8_f39a_11ea_b4b0_0242ac1c0002row0_col2\" class=\"data row0 col2\" >72</td>\n",
       "                        <td id=\"T_8a3b2bf8_f39a_11ea_b4b0_0242ac1c0002row0_col3\" class=\"data row0 col3\" >81</td>\n",
       "            </tr>\n",
       "            <tr>\n",
       "                                <th id=\"T_8a3b2bf8_f39a_11ea_b4b0_0242ac1c0002level1_row1\" class=\"row_heading level1 row1\" >1</th>\n",
       "                        <td id=\"T_8a3b2bf8_f39a_11ea_b4b0_0242ac1c0002row1_col0\" class=\"data row1 col0\" >91</td>\n",
       "                        <td id=\"T_8a3b2bf8_f39a_11ea_b4b0_0242ac1c0002row1_col1\" class=\"data row1 col1\" >70</td>\n",
       "                        <td id=\"T_8a3b2bf8_f39a_11ea_b4b0_0242ac1c0002row1_col2\" class=\"data row1 col2\" >72</td>\n",
       "                        <td id=\"T_8a3b2bf8_f39a_11ea_b4b0_0242ac1c0002row1_col3\" class=\"data row1 col3\" >233</td>\n",
       "            </tr>\n",
       "            <tr>\n",
       "                        <th id=\"T_8a3b2bf8_f39a_11ea_b4b0_0242ac1c0002level0_row2\" class=\"row_heading level0 row2\" rowspan=2>male</th>\n",
       "                        <th id=\"T_8a3b2bf8_f39a_11ea_b4b0_0242ac1c0002level1_row2\" class=\"row_heading level1 row2\" >0</th>\n",
       "                        <td id=\"T_8a3b2bf8_f39a_11ea_b4b0_0242ac1c0002row2_col0\" class=\"data row2 col0\" >77</td>\n",
       "                        <td id=\"T_8a3b2bf8_f39a_11ea_b4b0_0242ac1c0002row2_col1\" class=\"data row2 col1\" >91</td>\n",
       "                        <td id=\"T_8a3b2bf8_f39a_11ea_b4b0_0242ac1c0002row2_col2\" class=\"data row2 col2\" >300</td>\n",
       "                        <td id=\"T_8a3b2bf8_f39a_11ea_b4b0_0242ac1c0002row2_col3\" class=\"data row2 col3\" >468</td>\n",
       "            </tr>\n",
       "            <tr>\n",
       "                                <th id=\"T_8a3b2bf8_f39a_11ea_b4b0_0242ac1c0002level1_row3\" class=\"row_heading level1 row3\" >1</th>\n",
       "                        <td id=\"T_8a3b2bf8_f39a_11ea_b4b0_0242ac1c0002row3_col0\" class=\"data row3 col0\" >45</td>\n",
       "                        <td id=\"T_8a3b2bf8_f39a_11ea_b4b0_0242ac1c0002row3_col1\" class=\"data row3 col1\" >17</td>\n",
       "                        <td id=\"T_8a3b2bf8_f39a_11ea_b4b0_0242ac1c0002row3_col2\" class=\"data row3 col2\" >47</td>\n",
       "                        <td id=\"T_8a3b2bf8_f39a_11ea_b4b0_0242ac1c0002row3_col3\" class=\"data row3 col3\" >109</td>\n",
       "            </tr>\n",
       "            <tr>\n",
       "                        <th id=\"T_8a3b2bf8_f39a_11ea_b4b0_0242ac1c0002level0_row4\" class=\"row_heading level0 row4\" >All</th>\n",
       "                        <th id=\"T_8a3b2bf8_f39a_11ea_b4b0_0242ac1c0002level1_row4\" class=\"row_heading level1 row4\" ></th>\n",
       "                        <td id=\"T_8a3b2bf8_f39a_11ea_b4b0_0242ac1c0002row4_col0\" class=\"data row4 col0\" >216</td>\n",
       "                        <td id=\"T_8a3b2bf8_f39a_11ea_b4b0_0242ac1c0002row4_col1\" class=\"data row4 col1\" >184</td>\n",
       "                        <td id=\"T_8a3b2bf8_f39a_11ea_b4b0_0242ac1c0002row4_col2\" class=\"data row4 col2\" >491</td>\n",
       "                        <td id=\"T_8a3b2bf8_f39a_11ea_b4b0_0242ac1c0002row4_col3\" class=\"data row4 col3\" >891</td>\n",
       "            </tr>\n",
       "    </tbody></table>"
      ],
      "text/plain": [
       "<pandas.io.formats.style.Styler at 0x7f01fae75eb8>"
      ]
     },
     "execution_count": 285,
     "metadata": {
      "tags": []
     },
     "output_type": "execute_result"
    }
   ],
   "source": [
    "pd.crosstab([data.Sex,data.Survived],data.Pclass,margins=True).style.background_gradient(cmap='summer_r')"
   ]
  },
  {
   "cell_type": "code",
   "execution_count": 286,
   "metadata": {
    "colab": {
     "base_uri": "https://localhost:8080/",
     "height": 295
    },
    "colab_type": "code",
    "id": "EBI5t5bD9Zhv",
    "outputId": "6d5514e2-6e83-4413-f697-49b1ea6c49b7"
   },
   "outputs": [
    {
     "data": {
      "image/png": "[encoded data removed]",
      "text/plain": [
       "<Figure size 432x288 with 1 Axes>"
      ]
     },
     "metadata": {
      "needs_background": "light",
      "tags": []
     },
     "output_type": "display_data"
    }
   ],
   "source": [
    "sns.countplot('Pclass', hue='Survived', data=data)\n",
    "plt.title('Pclass: Sruvived vs Dead')\n",
    "plt.show()"
   ]
  },
  {
   "cell_type": "markdown",
   "metadata": {
    "colab_type": "text",
    "id": "GkVZoco296Rf"
   },
   "source": [
    "Видно что доля выживших в первой классе выше, чем погибших, около 63%. Больше всего погибших в 3 классе 372 человека. Оказавшись в 3 классе верояность выжить была значительно меньше, около 24%."
   ]
  },
  {
   "cell_type": "markdown",
   "metadata": {
    "colab_type": "text",
    "id": "HMOMi8YxFWPi"
   },
   "source": [
    "Построим распределение возраста пассажиров:"
   ]
  },
  {
   "cell_type": "code",
   "execution_count": 287,
   "metadata": {
    "colab": {
     "base_uri": "https://localhost:8080/",
     "height": 312
    },
    "colab_type": "code",
    "id": "Y1C_-CXBFZ2Q",
    "outputId": "1fbe2294-386a-4c5a-c80f-48e5492edf6d"
   },
   "outputs": [
    {
     "data": {
      "text/plain": [
       "Text(0.5, 1.0, 'Agewise distribution of the passenger aboard the Titanic')"
      ]
     },
     "execution_count": 287,
     "metadata": {
      "tags": []
     },
     "output_type": "execute_result"
    },
    {
     "data": {
      "image/png": "[encoded data removed]",
      "text/plain": [
       "<Figure size 432x288 with 1 Axes>"
      ]
     },
     "metadata": {
      "needs_background": "light",
      "tags": []
     },
     "output_type": "display_data"
    }
   ],
   "source": [
    "sns.distplot(data['Age'].dropna(), bins=15, kde=False)\n",
    "plt.ylabel('Count')\n",
    "plt.title('Agewise distribution of the passenger aboard the Titanic')"
   ]
  },
  {
   "cell_type": "code",
   "execution_count": 288,
   "metadata": {
    "colab": {
     "base_uri": "https://localhost:8080/",
     "height": 309
    },
    "colab_type": "code",
    "id": "ooY8Qi7s8mu5",
    "outputId": "1c41a833-0589-4b1f-ba8b-6d9d44a73918"
   },
   "outputs": [
    {
     "data": {
      "image/png": "[encoded data removed]",
      "text/plain": [
       "<Figure size 432x288 with 1 Axes>"
      ]
     },
     "metadata": {
      "needs_background": "light",
      "tags": []
     },
     "output_type": "display_data"
    }
   ],
   "source": [
    "group_age_split = pd.cut(data['Age'], np.arange(0, 80, 15))\n",
    "age_grouping = data.groupby(group_age_split).mean()\n",
    "age_grouping['Survived'].plot.bar(color = 'red')\n",
    "plt.ylabel(\"Survival Chances\")\n",
    "plt.show()"
   ]
  },
  {
   "cell_type": "code",
   "execution_count": 289,
   "metadata": {
    "colab": {
     "base_uri": "https://localhost:8080/",
     "height": 235
    },
    "colab_type": "code",
    "id": "mQMJlKD79ssk",
    "outputId": "d910ce6a-4915-40a9-adba-906da4b675dc"
   },
   "outputs": [
    {
     "data": {
      "text/html": [
       "<div>\n",
       "<style scoped>\n",
       "    .dataframe tbody tr th:only-of-type {\n",
       "        vertical-align: middle;\n",
       "    }\n",
       "\n",
       "    .dataframe tbody tr th {\n",
       "        vertical-align: top;\n",
       "    }\n",
       "\n",
       "    .dataframe thead th {\n",
       "        text-align: right;\n",
       "    }\n",
       "</style>\n",
       "<table border=\"1\" class=\"dataframe\">\n",
       "  <thead>\n",
       "    <tr style=\"text-align: right;\">\n",
       "      <th></th>\n",
       "      <th>Pclass</th>\n",
       "      <th>Age</th>\n",
       "      <th>SibSp</th>\n",
       "      <th>Parch</th>\n",
       "      <th>Fare</th>\n",
       "      <th>Survived</th>\n",
       "    </tr>\n",
       "    <tr>\n",
       "      <th>Age</th>\n",
       "      <th></th>\n",
       "      <th></th>\n",
       "      <th></th>\n",
       "      <th></th>\n",
       "      <th></th>\n",
       "      <th></th>\n",
       "    </tr>\n",
       "  </thead>\n",
       "  <tbody>\n",
       "    <tr>\n",
       "      <th>(0, 15]</th>\n",
       "      <td>2.626506</td>\n",
       "      <td>6.369518</td>\n",
       "      <td>1.734940</td>\n",
       "      <td>1.265060</td>\n",
       "      <td>32.785795</td>\n",
       "      <td>0.590361</td>\n",
       "    </tr>\n",
       "    <tr>\n",
       "      <th>(15, 30]</th>\n",
       "      <td>2.426380</td>\n",
       "      <td>23.262270</td>\n",
       "      <td>0.355828</td>\n",
       "      <td>0.263804</td>\n",
       "      <td>28.015413</td>\n",
       "      <td>0.358896</td>\n",
       "    </tr>\n",
       "    <tr>\n",
       "      <th>(30, 45]</th>\n",
       "      <td>2.108911</td>\n",
       "      <td>36.915842</td>\n",
       "      <td>0.366337</td>\n",
       "      <td>0.440594</td>\n",
       "      <td>41.265077</td>\n",
       "      <td>0.425743</td>\n",
       "    </tr>\n",
       "    <tr>\n",
       "      <th>(45, 60]</th>\n",
       "      <td>1.567901</td>\n",
       "      <td>51.648148</td>\n",
       "      <td>0.358025</td>\n",
       "      <td>0.271605</td>\n",
       "      <td>45.332410</td>\n",
       "      <td>0.407407</td>\n",
       "    </tr>\n",
       "    <tr>\n",
       "      <th>(60, 75]</th>\n",
       "      <td>1.619048</td>\n",
       "      <td>65.357143</td>\n",
       "      <td>0.142857</td>\n",
       "      <td>0.285714</td>\n",
       "      <td>41.912700</td>\n",
       "      <td>0.190476</td>\n",
       "    </tr>\n",
       "  </tbody>\n",
       "</table>\n",
       "</div>"
      ],
      "text/plain": [
       "            Pclass        Age     SibSp     Parch       Fare  Survived\n",
       "Age                                                                   \n",
       "(0, 15]   2.626506   6.369518  1.734940  1.265060  32.785795  0.590361\n",
       "(15, 30]  2.426380  23.262270  0.355828  0.263804  28.015413  0.358896\n",
       "(30, 45]  2.108911  36.915842  0.366337  0.440594  41.265077  0.425743\n",
       "(45, 60]  1.567901  51.648148  0.358025  0.271605  45.332410  0.407407\n",
       "(60, 75]  1.619048  65.357143  0.142857  0.285714  41.912700  0.190476"
      ]
     },
     "execution_count": 289,
     "metadata": {
      "tags": []
     },
     "output_type": "execute_result"
    }
   ],
   "source": [
    "age_grouping"
   ]
  },
  {
   "cell_type": "markdown",
   "metadata": {
    "colab_type": "text",
    "id": "AL2K5vwRGikk"
   },
   "source": [
    "Многие пассажиры в возрасте 15-45 лет. Самый высокий шанс выжить у детей в возрасте от 0 до 15 лет около 59%. Самый маленький у пожилых чей возраст больше 60 лет около 19%."
   ]
  },
  {
   "cell_type": "markdown",
   "metadata": {
    "colab_type": "text",
    "id": "nnrS5PHyGz5J"
   },
   "source": [
    "Посмотрим на распределение в разбивке по полу."
   ]
  },
  {
   "cell_type": "code",
   "execution_count": 290,
   "metadata": {
    "colab": {
     "base_uri": "https://localhost:8080/",
     "height": 312
    },
    "colab_type": "code",
    "id": "fLeQRjRKG48C",
    "outputId": "44115b04-e2c4-4b19-8c4b-e09dad01dd3c"
   },
   "outputs": [
    {
     "data": {
      "text/plain": [
       "<matplotlib.legend.Legend at 0x7f01f48b6ef0>"
      ]
     },
     "execution_count": 290,
     "metadata": {
      "tags": []
     },
     "output_type": "execute_result"
    },
    {
     "data": {
      "image/png": "[encoded data removed]",
      "text/plain": [
       "<Figure size 432x288 with 1 Axes>"
      ]
     },
     "metadata": {
      "needs_background": "light",
      "tags": []
     },
     "output_type": "display_data"
    }
   ],
   "source": [
    "plt.hist(data['Age'][(data['Sex'] == 'female')].dropna(), bins=7, label='Female', histtype='stepfilled')\n",
    "plt.hist(data['Age'][(data['Sex'] == 'male')].dropna(), bins=7, label='Male', alpha=.7, histtype='stepfilled')\n",
    "plt.xlabel('Age')\n",
    "plt.ylabel('Count')\n",
    "plt.title('Age wise Distribution of Male and Female passengers')\n",
    "plt.legend()"
   ]
  },
  {
   "cell_type": "markdown",
   "metadata": {
    "colab_type": "text",
    "id": "OCyjyUOGIlJ2"
   },
   "source": [
    "Построим распределение возраста для выживших и невыживших пассажиров."
   ]
  },
  {
   "cell_type": "code",
   "execution_count": 291,
   "metadata": {
    "colab": {
     "base_uri": "https://localhost:8080/",
     "height": 448
    },
    "colab_type": "code",
    "id": "IwE8b4YcHyMm",
    "outputId": "d4edeac0-cee5-4bb2-8c37-6d84f9672e9c"
   },
   "outputs": [
    {
     "name": "stderr",
     "output_type": "stream",
     "text": [
      "/usr/local/lib/python3.6/dist-packages/numpy/lib/histograms.py:839: RuntimeWarning: invalid value encountered in greater_equal\n",
      "  keep = (tmp_a >= first_edge)\n",
      "/usr/local/lib/python3.6/dist-packages/numpy/lib/histograms.py:840: RuntimeWarning: invalid value encountered in less_equal\n",
      "  keep &= (tmp_a <= last_edge)\n",
      "/usr/local/lib/python3.6/dist-packages/numpy/lib/histograms.py:839: RuntimeWarning: invalid value encountered in greater_equal\n",
      "  keep = (tmp_a >= first_edge)\n",
      "/usr/local/lib/python3.6/dist-packages/numpy/lib/histograms.py:840: RuntimeWarning: invalid value encountered in less_equal\n",
      "  keep &= (tmp_a <= last_edge)\n"
     ]
    },
    {
     "data": {
      "text/plain": [
       "<matplotlib.legend.Legend at 0x7f01f4832668>"
      ]
     },
     "execution_count": 291,
     "metadata": {
      "tags": []
     },
     "output_type": "execute_result"
    },
    {
     "data": {
      "image/png": "[encoded data removed]",
      "text/plain": [
       "<Figure size 432x288 with 1 Axes>"
      ]
     },
     "metadata": {
      "needs_background": "light",
      "tags": []
     },
     "output_type": "display_data"
    }
   ],
   "source": [
    "plt.hist(data['Age'][(data['Survived'] == 1)], bins=7, label='Survived', histtype='stepfilled')\n",
    "plt.hist(data['Age'][(data['Survived'] == 0)], bins=7, label='NO-Survived', alpha=.7, histtype='stepfilled')\n",
    "plt.xlabel('Age')\n",
    "plt.ylabel('Count')\n",
    "plt.title('Age wise Distribution of Survived and NO-Survived passengers')\n",
    "plt.legend()"
   ]
  },
  {
   "cell_type": "markdown",
   "metadata": {
    "colab_type": "text",
    "id": "o35iLC4ZLsfq"
   },
   "source": [
    "у невыживших есть ярко выраженная мода в районе 22-32 лет."
   ]
  },
  {
   "cell_type": "markdown",
   "metadata": {
    "colab_type": "text",
    "id": "_jF8VPTpsZ4G"
   },
   "source": [
    "## Заполнение пропусков в данных\n",
    "В данных имеются пропуски в трёх колонках: "
   ]
  },
  {
   "cell_type": "code",
   "execution_count": 292,
   "metadata": {
    "colab": {
     "base_uri": "https://localhost:8080/",
     "height": 34
    },
    "colab_type": "code",
    "id": "JXRFVQDRsZ4I",
    "outputId": "dd0301e2-1ba7-4089-daec-eb0f7fb73314"
   },
   "outputs": [
    {
     "data": {
      "text/plain": [
       "['Age', 'Cabin', 'Embarked']"
      ]
     },
     "execution_count": 292,
     "metadata": {
      "tags": []
     },
     "output_type": "execute_result"
    }
   ],
   "source": [
    "data.columns[data.isna().any()].tolist()"
   ]
  },
  {
   "cell_type": "code",
   "execution_count": 293,
   "metadata": {
    "colab": {
     "base_uri": "https://localhost:8080/",
     "height": 221
    },
    "colab_type": "code",
    "id": "R8i6IB9dctRG",
    "outputId": "add34ccb-0767-40e1-8944-0ef3305f0286"
   },
   "outputs": [
    {
     "data": {
      "text/plain": [
       "Pclass        0\n",
       "Name          0\n",
       "Sex           0\n",
       "Age         177\n",
       "SibSp         0\n",
       "Parch         0\n",
       "Ticket        0\n",
       "Fare          0\n",
       "Cabin       687\n",
       "Embarked      2\n",
       "Survived      0\n",
       "dtype: int64"
      ]
     },
     "execution_count": 293,
     "metadata": {
      "tags": []
     },
     "output_type": "execute_result"
    }
   ],
   "source": [
    "data.isnull().sum()"
   ]
  },
  {
   "cell_type": "markdown",
   "metadata": {
    "colab_type": "text",
    "id": "OfhqWNtlsZ4N"
   },
   "source": [
    "Для простоты заполним все пропуски в категориальных колонках новым классом \"0\", а в числовой колонке Age --- медианным значением. "
   ]
  },
  {
   "cell_type": "code",
   "execution_count": 294,
   "metadata": {
    "colab": {},
    "colab_type": "code",
    "id": "9qpCNOyrsZ4O"
   },
   "outputs": [],
   "source": [
    "data.loc[:, ['Cabin', 'Embarked']] = data.loc[:, ['Cabin', 'Embarked']].fillna('0')\n",
    "data['Age'] = data['Age'].fillna(data['Age'].median())"
   ]
  },
  {
   "cell_type": "markdown",
   "metadata": {
    "colab_type": "text",
    "id": "7NCgMJfTHu3r"
   },
   "source": [
    "Проверим"
   ]
  },
  {
   "cell_type": "code",
   "execution_count": 295,
   "metadata": {
    "colab": {
     "base_uri": "https://localhost:8080/",
     "height": 221
    },
    "colab_type": "code",
    "id": "AtbGdZlDHtu5",
    "outputId": "ee369aa4-fbf9-4e56-9677-04f87a0eff61"
   },
   "outputs": [
    {
     "data": {
      "text/plain": [
       "Pclass      0\n",
       "Name        0\n",
       "Sex         0\n",
       "Age         0\n",
       "SibSp       0\n",
       "Parch       0\n",
       "Ticket      0\n",
       "Fare        0\n",
       "Cabin       0\n",
       "Embarked    0\n",
       "Survived    0\n",
       "dtype: int64"
      ]
     },
     "execution_count": 295,
     "metadata": {
      "tags": []
     },
     "output_type": "execute_result"
    }
   ],
   "source": [
    "data.isnull().sum()"
   ]
  },
  {
   "cell_type": "markdown",
   "metadata": {
    "colab_type": "text",
    "id": "61s_OIgXsZ4S"
   },
   "source": [
    "## Подготовка плана тестирования\n",
    "\n",
    "### Задание 2. (0 баллов)\n",
    "Разделите выборку на обучающее и тестовое множество в соотношении 70:30."
   ]
  },
  {
   "cell_type": "code",
   "execution_count": 296,
   "metadata": {
    "colab": {},
    "colab_type": "code",
    "id": "bUaB8rGhsZ4S"
   },
   "outputs": [],
   "source": [
    "# Для удобства разделение на трей тест сплит буду делать позже, после преобразования некоторые стобцов и добавления новых признаков, это будет удобнее\n",
    "# from sklearn.model_selection import train_test_split\n",
    "# data_train, data_test = train_test_split(data, test_size = 0.3)"
   ]
  },
  {
   "cell_type": "code",
   "execution_count": 297,
   "metadata": {
    "colab": {
     "base_uri": "https://localhost:8080/",
     "height": 34
    },
    "colab_type": "code",
    "id": "byDc_st2hJjP",
    "outputId": "f4453c10-94f1-446c-d978-6432361fad32"
   },
   "outputs": [
    {
     "data": {
      "text/plain": [
       "(891, 11)"
      ]
     },
     "execution_count": 297,
     "metadata": {
      "tags": []
     },
     "output_type": "execute_result"
    }
   ],
   "source": [
    "data.shape"
   ]
  },
  {
   "cell_type": "markdown",
   "metadata": {
    "colab_type": "text",
    "id": "ZQUSzrEcsZ4W"
   },
   "source": [
    "## Выделение новых признаков\n",
    "Теперь отложим тестовые данные и приступим к моделированию. Внимательно изучите данные. Можете ли вы выделить признаки, которые не указаны явно в таблице?\n",
    "\n",
    "### Задание 3 (1 балл)\n",
    " Сформируйте по крайней мере один новый признак и объясните ваш выбор. Пример признака сформирован за вас. \n",
    "\n",
    "Указания: \n",
    "- Пассажиров можно поделить на несколько классов по их именам.\n",
    "- Различных номеров кают слишком много. Но буквы в номерах кают указывают на их местоположение. (***Этот признак сформирован в примере***)\n",
    "- Возможно, имеет смысл отделить мальчиков от мужчин. Отделять девочек от женщин может быть не так важно\n",
    "- Другие идеи для признаков можно почерпнуть на форуме в обсуждении задачи на kaggle.com."
   ]
  },
  {
   "cell_type": "code",
   "execution_count": 298,
   "metadata": {
    "colab": {
     "base_uri": "https://localhost:8080/",
     "height": 450
    },
    "colab_type": "code",
    "id": "wnRM_1IgsZ4X",
    "outputId": "9678da0f-9bb2-4758-95f5-1d6451548ad9"
   },
   "outputs": [
    {
     "data": {
      "text/html": [
       "<div>\n",
       "<style scoped>\n",
       "    .dataframe tbody tr th:only-of-type {\n",
       "        vertical-align: middle;\n",
       "    }\n",
       "\n",
       "    .dataframe tbody tr th {\n",
       "        vertical-align: top;\n",
       "    }\n",
       "\n",
       "    .dataframe thead th {\n",
       "        text-align: right;\n",
       "    }\n",
       "</style>\n",
       "<table border=\"1\" class=\"dataframe\">\n",
       "  <thead>\n",
       "    <tr style=\"text-align: right;\">\n",
       "      <th></th>\n",
       "      <th>Pclass</th>\n",
       "      <th>Name</th>\n",
       "      <th>Sex</th>\n",
       "      <th>Age</th>\n",
       "      <th>SibSp</th>\n",
       "      <th>Parch</th>\n",
       "      <th>Ticket</th>\n",
       "      <th>Fare</th>\n",
       "      <th>Cabin</th>\n",
       "      <th>Embarked</th>\n",
       "      <th>Survived</th>\n",
       "    </tr>\n",
       "    <tr>\n",
       "      <th>PassengerId</th>\n",
       "      <th></th>\n",
       "      <th></th>\n",
       "      <th></th>\n",
       "      <th></th>\n",
       "      <th></th>\n",
       "      <th></th>\n",
       "      <th></th>\n",
       "      <th></th>\n",
       "      <th></th>\n",
       "      <th></th>\n",
       "      <th></th>\n",
       "    </tr>\n",
       "  </thead>\n",
       "  <tbody>\n",
       "    <tr>\n",
       "      <th>1</th>\n",
       "      <td>3</td>\n",
       "      <td>Braund, Mr. Owen Harris</td>\n",
       "      <td>male</td>\n",
       "      <td>22.0</td>\n",
       "      <td>1</td>\n",
       "      <td>0</td>\n",
       "      <td>A/5 21171</td>\n",
       "      <td>7.2500</td>\n",
       "      <td>0</td>\n",
       "      <td>S</td>\n",
       "      <td>0</td>\n",
       "    </tr>\n",
       "    <tr>\n",
       "      <th>2</th>\n",
       "      <td>1</td>\n",
       "      <td>Cumings, Mrs. John Bradley (Florence Briggs Th...</td>\n",
       "      <td>female</td>\n",
       "      <td>38.0</td>\n",
       "      <td>1</td>\n",
       "      <td>0</td>\n",
       "      <td>PC 17599</td>\n",
       "      <td>71.2833</td>\n",
       "      <td>C85</td>\n",
       "      <td>C</td>\n",
       "      <td>1</td>\n",
       "    </tr>\n",
       "    <tr>\n",
       "      <th>3</th>\n",
       "      <td>3</td>\n",
       "      <td>Heikkinen, Miss. Laina</td>\n",
       "      <td>female</td>\n",
       "      <td>26.0</td>\n",
       "      <td>0</td>\n",
       "      <td>0</td>\n",
       "      <td>STON/O2. 3101282</td>\n",
       "      <td>7.9250</td>\n",
       "      <td>0</td>\n",
       "      <td>S</td>\n",
       "      <td>1</td>\n",
       "    </tr>\n",
       "    <tr>\n",
       "      <th>4</th>\n",
       "      <td>1</td>\n",
       "      <td>Futrelle, Mrs. Jacques Heath (Lily May Peel)</td>\n",
       "      <td>female</td>\n",
       "      <td>35.0</td>\n",
       "      <td>1</td>\n",
       "      <td>0</td>\n",
       "      <td>113803</td>\n",
       "      <td>53.1000</td>\n",
       "      <td>C123</td>\n",
       "      <td>S</td>\n",
       "      <td>1</td>\n",
       "    </tr>\n",
       "    <tr>\n",
       "      <th>5</th>\n",
       "      <td>3</td>\n",
       "      <td>Allen, Mr. William Henry</td>\n",
       "      <td>male</td>\n",
       "      <td>35.0</td>\n",
       "      <td>0</td>\n",
       "      <td>0</td>\n",
       "      <td>373450</td>\n",
       "      <td>8.0500</td>\n",
       "      <td>0</td>\n",
       "      <td>S</td>\n",
       "      <td>0</td>\n",
       "    </tr>\n",
       "    <tr>\n",
       "      <th>...</th>\n",
       "      <td>...</td>\n",
       "      <td>...</td>\n",
       "      <td>...</td>\n",
       "      <td>...</td>\n",
       "      <td>...</td>\n",
       "      <td>...</td>\n",
       "      <td>...</td>\n",
       "      <td>...</td>\n",
       "      <td>...</td>\n",
       "      <td>...</td>\n",
       "      <td>...</td>\n",
       "    </tr>\n",
       "    <tr>\n",
       "      <th>887</th>\n",
       "      <td>2</td>\n",
       "      <td>Montvila, Rev. Juozas</td>\n",
       "      <td>male</td>\n",
       "      <td>27.0</td>\n",
       "      <td>0</td>\n",
       "      <td>0</td>\n",
       "      <td>211536</td>\n",
       "      <td>13.0000</td>\n",
       "      <td>0</td>\n",
       "      <td>S</td>\n",
       "      <td>0</td>\n",
       "    </tr>\n",
       "    <tr>\n",
       "      <th>888</th>\n",
       "      <td>1</td>\n",
       "      <td>Graham, Miss. Margaret Edith</td>\n",
       "      <td>female</td>\n",
       "      <td>19.0</td>\n",
       "      <td>0</td>\n",
       "      <td>0</td>\n",
       "      <td>112053</td>\n",
       "      <td>30.0000</td>\n",
       "      <td>B42</td>\n",
       "      <td>S</td>\n",
       "      <td>1</td>\n",
       "    </tr>\n",
       "    <tr>\n",
       "      <th>889</th>\n",
       "      <td>3</td>\n",
       "      <td>Johnston, Miss. Catherine Helen \"Carrie\"</td>\n",
       "      <td>female</td>\n",
       "      <td>28.0</td>\n",
       "      <td>1</td>\n",
       "      <td>2</td>\n",
       "      <td>W./C. 6607</td>\n",
       "      <td>23.4500</td>\n",
       "      <td>0</td>\n",
       "      <td>S</td>\n",
       "      <td>0</td>\n",
       "    </tr>\n",
       "    <tr>\n",
       "      <th>890</th>\n",
       "      <td>1</td>\n",
       "      <td>Behr, Mr. Karl Howell</td>\n",
       "      <td>male</td>\n",
       "      <td>26.0</td>\n",
       "      <td>0</td>\n",
       "      <td>0</td>\n",
       "      <td>111369</td>\n",
       "      <td>30.0000</td>\n",
       "      <td>C148</td>\n",
       "      <td>C</td>\n",
       "      <td>1</td>\n",
       "    </tr>\n",
       "    <tr>\n",
       "      <th>891</th>\n",
       "      <td>3</td>\n",
       "      <td>Dooley, Mr. Patrick</td>\n",
       "      <td>male</td>\n",
       "      <td>32.0</td>\n",
       "      <td>0</td>\n",
       "      <td>0</td>\n",
       "      <td>370376</td>\n",
       "      <td>7.7500</td>\n",
       "      <td>0</td>\n",
       "      <td>Q</td>\n",
       "      <td>0</td>\n",
       "    </tr>\n",
       "  </tbody>\n",
       "</table>\n",
       "<p>891 rows × 11 columns</p>\n",
       "</div>"
      ],
      "text/plain": [
       "             Pclass  ... Survived\n",
       "PassengerId          ...         \n",
       "1                 3  ...        0\n",
       "2                 1  ...        1\n",
       "3                 3  ...        1\n",
       "4                 1  ...        1\n",
       "5                 3  ...        0\n",
       "...             ...  ...      ...\n",
       "887               2  ...        0\n",
       "888               1  ...        1\n",
       "889               3  ...        0\n",
       "890               1  ...        1\n",
       "891               3  ...        0\n",
       "\n",
       "[891 rows x 11 columns]"
      ]
     },
     "execution_count": 298,
     "metadata": {
      "tags": []
     },
     "output_type": "execute_result"
    }
   ],
   "source": [
    "data"
   ]
  },
  {
   "cell_type": "code",
   "execution_count": 299,
   "metadata": {
    "colab": {
     "base_uri": "https://localhost:8080/",
     "height": 238
    },
    "colab_type": "code",
    "id": "pLqWghQlsZ4b",
    "outputId": "74c91ab6-9cd1-487b-e70b-e19b0fee9327"
   },
   "outputs": [
    {
     "data": {
      "text/plain": [
       "PassengerId\n",
       "1         0\n",
       "2       C85\n",
       "3         0\n",
       "4      C123\n",
       "5         0\n",
       "       ... \n",
       "887       0\n",
       "888     B42\n",
       "889       0\n",
       "890    C148\n",
       "891       0\n",
       "Name: Cabin, Length: 891, dtype: object"
      ]
     },
     "execution_count": 299,
     "metadata": {
      "tags": []
     },
     "output_type": "execute_result"
    }
   ],
   "source": [
    "data['Cabin']"
   ]
  },
  {
   "cell_type": "code",
   "execution_count": 300,
   "metadata": {
    "colab": {},
    "colab_type": "code",
    "id": "qP7AU0fEsZ4f"
   },
   "outputs": [],
   "source": [
    "def get_cabin_letter(row):\n",
    "    return row['Cabin'][0]\n",
    "\n",
    "data['cabin_type'] = data.apply(get_cabin_letter, axis=1)"
   ]
  },
  {
   "cell_type": "markdown",
   "metadata": {
    "colab_type": "text",
    "id": "Dj37yA3lsZ4j"
   },
   "source": [
    "Сюда добавьте описание вашего нового признака"
   ]
  },
  {
   "cell_type": "markdown",
   "metadata": {
    "colab_type": "text",
    "id": "8qjssd2fFMLV"
   },
   "source": [
    "Добавим новый стобец 'title_name' который отражает семейное положение человека. Вытащим эти данные из признака  'Name'"
   ]
  },
  {
   "cell_type": "code",
   "execution_count": 301,
   "metadata": {
    "colab": {},
    "colab_type": "code",
    "id": "jrPv7gwNDIVL"
   },
   "outputs": [],
   "source": [
    "#первый вариант создания стобца\n",
    "# train_data['Title'] = train_data['Name'].apply(lambda x: x.split(',')[1].split('.')[0].strip())"
   ]
  },
  {
   "cell_type": "code",
   "execution_count": 302,
   "metadata": {
    "colab": {},
    "colab_type": "code",
    "id": "bN_J3WrQsZ4k"
   },
   "outputs": [],
   "source": [
    "def extract_title_name(row): #rename this function appropriately\n",
    "    return row['Name'].split(',')[1].split('.')[0].strip()\n",
    "\n",
    "data['title_name'] = data.apply(extract_title_name, axis=1)"
   ]
  },
  {
   "cell_type": "code",
   "execution_count": 303,
   "metadata": {
    "colab": {
     "base_uri": "https://localhost:8080/",
     "height": 286
    },
    "colab_type": "code",
    "id": "ofVd6iHgDHH9",
    "outputId": "d45b684a-0970-4230-b205-3c5abf26ce08"
   },
   "outputs": [
    {
     "data": {
      "text/html": [
       "<div>\n",
       "<style scoped>\n",
       "    .dataframe tbody tr th:only-of-type {\n",
       "        vertical-align: middle;\n",
       "    }\n",
       "\n",
       "    .dataframe tbody tr th {\n",
       "        vertical-align: top;\n",
       "    }\n",
       "\n",
       "    .dataframe thead th {\n",
       "        text-align: right;\n",
       "    }\n",
       "</style>\n",
       "<table border=\"1\" class=\"dataframe\">\n",
       "  <thead>\n",
       "    <tr style=\"text-align: right;\">\n",
       "      <th></th>\n",
       "      <th>Pclass</th>\n",
       "      <th>Name</th>\n",
       "      <th>Sex</th>\n",
       "      <th>Age</th>\n",
       "      <th>SibSp</th>\n",
       "      <th>Parch</th>\n",
       "      <th>Ticket</th>\n",
       "      <th>Fare</th>\n",
       "      <th>Cabin</th>\n",
       "      <th>Embarked</th>\n",
       "      <th>Survived</th>\n",
       "      <th>cabin_type</th>\n",
       "      <th>title_name</th>\n",
       "    </tr>\n",
       "    <tr>\n",
       "      <th>PassengerId</th>\n",
       "      <th></th>\n",
       "      <th></th>\n",
       "      <th></th>\n",
       "      <th></th>\n",
       "      <th></th>\n",
       "      <th></th>\n",
       "      <th></th>\n",
       "      <th></th>\n",
       "      <th></th>\n",
       "      <th></th>\n",
       "      <th></th>\n",
       "      <th></th>\n",
       "      <th></th>\n",
       "    </tr>\n",
       "  </thead>\n",
       "  <tbody>\n",
       "    <tr>\n",
       "      <th>1</th>\n",
       "      <td>3</td>\n",
       "      <td>Braund, Mr. Owen Harris</td>\n",
       "      <td>male</td>\n",
       "      <td>22.0</td>\n",
       "      <td>1</td>\n",
       "      <td>0</td>\n",
       "      <td>A/5 21171</td>\n",
       "      <td>7.2500</td>\n",
       "      <td>0</td>\n",
       "      <td>S</td>\n",
       "      <td>0</td>\n",
       "      <td>0</td>\n",
       "      <td>Mr</td>\n",
       "    </tr>\n",
       "    <tr>\n",
       "      <th>2</th>\n",
       "      <td>1</td>\n",
       "      <td>Cumings, Mrs. John Bradley (Florence Briggs Th...</td>\n",
       "      <td>female</td>\n",
       "      <td>38.0</td>\n",
       "      <td>1</td>\n",
       "      <td>0</td>\n",
       "      <td>PC 17599</td>\n",
       "      <td>71.2833</td>\n",
       "      <td>C85</td>\n",
       "      <td>C</td>\n",
       "      <td>1</td>\n",
       "      <td>C</td>\n",
       "      <td>Mrs</td>\n",
       "    </tr>\n",
       "    <tr>\n",
       "      <th>3</th>\n",
       "      <td>3</td>\n",
       "      <td>Heikkinen, Miss. Laina</td>\n",
       "      <td>female</td>\n",
       "      <td>26.0</td>\n",
       "      <td>0</td>\n",
       "      <td>0</td>\n",
       "      <td>STON/O2. 3101282</td>\n",
       "      <td>7.9250</td>\n",
       "      <td>0</td>\n",
       "      <td>S</td>\n",
       "      <td>1</td>\n",
       "      <td>0</td>\n",
       "      <td>Miss</td>\n",
       "    </tr>\n",
       "    <tr>\n",
       "      <th>4</th>\n",
       "      <td>1</td>\n",
       "      <td>Futrelle, Mrs. Jacques Heath (Lily May Peel)</td>\n",
       "      <td>female</td>\n",
       "      <td>35.0</td>\n",
       "      <td>1</td>\n",
       "      <td>0</td>\n",
       "      <td>113803</td>\n",
       "      <td>53.1000</td>\n",
       "      <td>C123</td>\n",
       "      <td>S</td>\n",
       "      <td>1</td>\n",
       "      <td>C</td>\n",
       "      <td>Mrs</td>\n",
       "    </tr>\n",
       "    <tr>\n",
       "      <th>5</th>\n",
       "      <td>3</td>\n",
       "      <td>Allen, Mr. William Henry</td>\n",
       "      <td>male</td>\n",
       "      <td>35.0</td>\n",
       "      <td>0</td>\n",
       "      <td>0</td>\n",
       "      <td>373450</td>\n",
       "      <td>8.0500</td>\n",
       "      <td>0</td>\n",
       "      <td>S</td>\n",
       "      <td>0</td>\n",
       "      <td>0</td>\n",
       "      <td>Mr</td>\n",
       "    </tr>\n",
       "  </tbody>\n",
       "</table>\n",
       "</div>"
      ],
      "text/plain": [
       "             Pclass  ... title_name\n",
       "PassengerId          ...           \n",
       "1                 3  ...         Mr\n",
       "2                 1  ...        Mrs\n",
       "3                 3  ...       Miss\n",
       "4                 1  ...        Mrs\n",
       "5                 3  ...         Mr\n",
       "\n",
       "[5 rows x 13 columns]"
      ]
     },
     "execution_count": 303,
     "metadata": {
      "tags": []
     },
     "output_type": "execute_result"
    }
   ],
   "source": [
    "data.head()"
   ]
  },
  {
   "cell_type": "code",
   "execution_count": 304,
   "metadata": {
    "colab": {
     "base_uri": "https://localhost:8080/",
     "height": 323
    },
    "colab_type": "code",
    "id": "gSz0wu5pGgTJ",
    "outputId": "45f57a0d-5db1-4b58-9daa-07665b11156b"
   },
   "outputs": [
    {
     "data": {
      "text/plain": [
       "Mr              517\n",
       "Miss            182\n",
       "Mrs             125\n",
       "Master           40\n",
       "Dr                7\n",
       "Rev               6\n",
       "Major             2\n",
       "Col               2\n",
       "Mlle              2\n",
       "Don               1\n",
       "Ms                1\n",
       "Jonkheer          1\n",
       "Mme               1\n",
       "Capt              1\n",
       "Lady              1\n",
       "the Countess      1\n",
       "Sir               1\n",
       "Name: title_name, dtype: int64"
      ]
     },
     "execution_count": 304,
     "metadata": {
      "tags": []
     },
     "output_type": "execute_result"
    }
   ],
   "source": [
    "data['title_name'].value_counts()"
   ]
  },
  {
   "cell_type": "markdown",
   "metadata": {
    "colab_type": "text",
    "id": "F2DAvKG9G5u7"
   },
   "source": [
    "Заменим все редкие обращения на более частотные, объеденив их в группы."
   ]
  },
  {
   "cell_type": "code",
   "execution_count": 305,
   "metadata": {
    "colab": {},
    "colab_type": "code",
    "id": "eaelYP_VHAD1"
   },
   "outputs": [],
   "source": [
    "data['title_name'].replace(['Mme', 'Ms', 'Lady', 'Mlle', 'the Countess', 'Dona'], 'Miss', inplace=True)\n",
    "# Substitute rare male titles\n",
    "data['title_name'].replace(['Major', 'Col', 'Capt', 'Don', 'Sir', 'Jonkheer'], 'Mr', inplace=True)\n"
   ]
  },
  {
   "cell_type": "code",
   "execution_count": 306,
   "metadata": {
    "colab": {
     "base_uri": "https://localhost:8080/",
     "height": 136
    },
    "colab_type": "code",
    "id": "V9ciD8tQJJwf",
    "outputId": "00f51ce9-c4da-4ce1-b84b-da498f0fd2a2"
   },
   "outputs": [
    {
     "data": {
      "text/plain": [
       "Mr        525\n",
       "Miss      188\n",
       "Mrs       125\n",
       "Master     40\n",
       "Dr          7\n",
       "Rev         6\n",
       "Name: title_name, dtype: int64"
      ]
     },
     "execution_count": 306,
     "metadata": {
      "tags": []
     },
     "output_type": "execute_result"
    }
   ],
   "source": [
    "data['title_name'].value_counts()"
   ]
  },
  {
   "cell_type": "code",
   "execution_count": 307,
   "metadata": {
    "colab": {
     "base_uri": "https://localhost:8080/",
     "height": 296
    },
    "colab_type": "code",
    "id": "GhDlIJE_JQkE",
    "outputId": "321e8ae7-bc58-44e5-d1a7-095113f5f1c8"
   },
   "outputs": [
    {
     "data": {
      "image/png": "[encoded data removed]",
      "text/plain": [
       "<Figure size 432x288 with 1 Axes>"
      ]
     },
     "metadata": {
      "needs_background": "light",
      "tags": []
     },
     "output_type": "display_data"
    }
   ],
   "source": [
    "plt.title('Survival rate by Title')\n",
    "g = sns.barplot(x='title_name', y='Survived', data=data).set_ylabel('Survival rate')"
   ]
  },
  {
   "cell_type": "markdown",
   "metadata": {
    "colab_type": "text",
    "id": "q0hC1sKvsZ4o"
   },
   "source": [
    "## Кодирование категориальных признаков и обработка данных\n",
    "Все признаки сейчас делятся на числовые, бинарные, категориальные и текстовые. К текстовым признакам можно отнести имя пассажира, номер билета и номер каюты: значения этих признаков уникальны почти для всех пассажиров, и простого способа использовать их в модели не существует.\n",
    "\n",
    "### Задание 4 (0 баллов)\n",
    "Пока используя только изначальные признаки, перекодируйте категориальные признаки функцией ``pd.get_dummies``. Естественно, имена пассажиров и номера билетов и кают кодировать не стоит, поскольку все значения этих признаков уникальные. "
   ]
  },
  {
   "cell_type": "markdown",
   "metadata": {
    "colab_type": "text",
    "id": "lH1iriNKK0yd"
   },
   "source": [
    "\n",
    "Определим стобцы для one hot encoding"
   ]
  },
  {
   "cell_type": "code",
   "execution_count": 311,
   "metadata": {
    "colab": {},
    "colab_type": "code",
    "id": "XYxjcizCsZ4p"
   },
   "outputs": [],
   "source": [
    "to_dummies = [\n",
    "    'Sex',\n",
    "    'Embarked',\n",
    "    'cabin_type',\n",
    "    'title_name',\n",
    "    'Pclass'\n",
    "]"
   ]
  },
  {
   "cell_type": "markdown",
   "metadata": {
    "colab_type": "text",
    "id": "WCP6v_BRNAH1"
   },
   "source": [
    "Запускаем get_dummies"
   ]
  },
  {
   "cell_type": "code",
   "execution_count": 312,
   "metadata": {
    "colab": {},
    "colab_type": "code",
    "id": "uLTvVgEMMwM3"
   },
   "outputs": [],
   "source": [
    "data_preprocessed = pd.get_dummies(data, columns=to_dummies, drop_first=True)"
   ]
  },
  {
   "cell_type": "markdown",
   "metadata": {
    "colab_type": "text",
    "id": "xU4Oz64fNsvO"
   },
   "source": [
    "Удалим дублирующие информацию столбцы"
   ]
  },
  {
   "cell_type": "code",
   "execution_count": 313,
   "metadata": {
    "colab": {},
    "colab_type": "code",
    "id": "Tu-kwhl8Nek-"
   },
   "outputs": [],
   "source": [
    "data_preprocessed.drop(['Ticket', 'Name', 'Cabin'], axis=1, inplace=True)"
   ]
  },
  {
   "cell_type": "markdown",
   "metadata": {
    "colab_type": "text",
    "id": "BGsCfuq_Oi8n"
   },
   "source": [
    "**Вот сейчас применяю трейн тест сплит**"
   ]
  },
  {
   "cell_type": "code",
   "execution_count": 324,
   "metadata": {
    "colab": {},
    "colab_type": "code",
    "id": "zLEDdGRGevn8"
   },
   "outputs": [],
   "source": [
    "from sklearn.preprocessing import StandardScaler\n",
    "from sklearn.model_selection import train_test_split"
   ]
  },
  {
   "cell_type": "code",
   "execution_count": 314,
   "metadata": {
    "colab": {},
    "colab_type": "code",
    "id": "DmlyJSGqPw7T"
   },
   "outputs": [],
   "source": [
    "target = 'Survived'"
   ]
  },
  {
   "cell_type": "code",
   "execution_count": 315,
   "metadata": {
    "colab": {},
    "colab_type": "code",
    "id": "Nqil7tTKPmbR"
   },
   "outputs": [],
   "source": [
    "X_train, X_test, y_train, y_test = train_test_split(\n",
    "    data_preprocessed.drop(target, axis=1), \n",
    "    data_preprocessed[target], \n",
    "    test_size=0.30, \n",
    "    random_state=42, \n",
    "    stratify=data_preprocessed[target]\n",
    ")"
   ]
  },
  {
   "cell_type": "markdown",
   "metadata": {
    "colab_type": "text",
    "id": "eSk8IFmvQJlq"
   },
   "source": [
    "Перед запуском моделей нормализуем колличественные переменные"
   ]
  },
  {
   "cell_type": "code",
   "execution_count": 323,
   "metadata": {
    "colab": {},
    "colab_type": "code",
    "id": "8jza_XPFcyZh"
   },
   "outputs": [],
   "source": [
    "numerical = ['Age', 'SibSp', 'Parch', 'Fare']"
   ]
  },
  {
   "cell_type": "code",
   "execution_count": 327,
   "metadata": {
    "colab": {},
    "colab_type": "code",
    "id": "OSl6pPifei_O"
   },
   "outputs": [],
   "source": [
    "# стандартизируем\n",
    "scaler = StandardScaler()\n",
    "\n",
    "X_train_scaled = scaler.fit_transform(X_train[numerical])\n",
    "X_test_scaled = scaler.transform(X_test[numerical])\n",
    "\n",
    "X_train[numerical] = X_train_scaled\n",
    "X_test[numerical] = X_test_scaled"
   ]
  },
  {
   "cell_type": "markdown",
   "metadata": {
    "colab_type": "text",
    "id": "5aGZaJuysZ4t"
   },
   "source": [
    "## Обучение baseline-модели\n",
    "\n",
    "### Задание 5 (1 балл)\n",
    "\n",
    "Обучите одну из простых известных вам моделей. Измерьте качество полученной модели на кросс-валидации (используйте только обучающую выборку!)"
   ]
  },
  {
   "cell_type": "markdown",
   "metadata": {
    "colab_type": "text",
    "id": "9B1T1f1af0bo"
   },
   "source": [
    "Напишем функцию для подсчета точности модели"
   ]
  },
  {
   "cell_type": "code",
   "execution_count": 357,
   "metadata": {
    "colab": {},
    "colab_type": "code",
    "id": "usVtDsQ0jnbJ"
   },
   "outputs": [],
   "source": [
    "from sklearn.metrics import accuracy_score, precision_score, recall_score, f1_score\n",
    "from sklearn.metrics import roc_auc_score, roc_curve\n",
    "\n",
    "def quality_report(prediction, actual):\n",
    "    print(\"Accuracy: {:.3f}\\nPrecision: {:.3f}\\nRecall: {:.3f}\\nf1_score: {:.3f}\".format(\n",
    "        accuracy_score(prediction, actual),\n",
    "        precision_score(prediction, actual),\n",
    "        recall_score(prediction, actual),\n",
    "        f1_score(prediction, actual)\n",
    "    ))"
   ]
  },
  {
   "cell_type": "markdown",
   "metadata": {
    "colab_type": "text",
    "id": "o_wor1OUzcNN"
   },
   "source": [
    "Напишем функцию построения ROC - кривой"
   ]
  },
  {
   "cell_type": "code",
   "execution_count": 378,
   "metadata": {
    "colab": {},
    "colab_type": "code",
    "id": "1l1o97A6zcnZ"
   },
   "outputs": [],
   "source": [
    "def plot_roc_curve(prob_prediction, actual):\n",
    "    fpr, tpr, thresholds = roc_curve(y_test, prob_prediction)\n",
    "    auc_score = roc_auc_score(y_test, prob_prediction)\n",
    "    \n",
    "    plt.plot(fpr, tpr, label='ROC curve ')\n",
    "    plt.plot([0, 1], [0, 1])\n",
    "    plt.xlim([0.0, 1.0])\n",
    "    plt.ylim([0.0, 1.05])\n",
    "    plt.xlabel('False Positive Rate')\n",
    "    plt.ylabel('True Positive Rate')\n",
    "    plt.title('ROC AUC: {:.3f}'.format(auc_score))\n",
    "    plt.show()"
   ]
  },
  {
   "cell_type": "markdown",
   "metadata": {
    "colab_type": "text",
    "id": "7zggN_T4g8Nu"
   },
   "source": [
    "Определим самый наивный baseline"
   ]
  },
  {
   "cell_type": "code",
   "execution_count": 359,
   "metadata": {
    "colab": {},
    "colab_type": "code",
    "id": "A82zQpDosZ4u"
   },
   "outputs": [],
   "source": [
    "y_naive_pred = np.random.choice(\n",
    "    [0, 1], \n",
    "    len(y_train), \n",
    "    p=y_train.value_counts(normalize=True).values) #рандомом выбираем между 1 и 0"
   ]
  },
  {
   "cell_type": "markdown",
   "metadata": {
    "colab_type": "text",
    "id": "bq80-rO1jD0W"
   },
   "source": [
    "Посмотрим на точность наивного baseline"
   ]
  },
  {
   "cell_type": "code",
   "execution_count": 360,
   "metadata": {
    "colab": {
     "base_uri": "https://localhost:8080/",
     "height": 85
    },
    "colab_type": "code",
    "id": "hrUTaiuLiM4R",
    "outputId": "13a68fe5-c3a9-4cb0-9727-faca445ffb5d"
   },
   "outputs": [
    {
     "name": "stdout",
     "output_type": "stream",
     "text": [
      "Accuracy: 0.507\n",
      "Precision: 0.393\n",
      "Recall: 0.367\n",
      "f1_score: 0.380\n"
     ]
    }
   ],
   "source": [
    "quality_report(y_naive_pred, y_train)"
   ]
  },
  {
   "cell_type": "markdown",
   "metadata": {
    "colab_type": "text",
    "id": "UXmEC2FFkIMf"
   },
   "source": [
    "Второй baseline запустим Knn алгоритм"
   ]
  },
  {
   "cell_type": "code",
   "execution_count": 368,
   "metadata": {
    "colab": {
     "base_uri": "https://localhost:8080/",
     "height": 85
    },
    "colab_type": "code",
    "id": "Aa-AFTSkkOwu",
    "outputId": "b64e0257-0e89-4c0c-b3bd-68798c0d0f47"
   },
   "outputs": [
    {
     "name": "stdout",
     "output_type": "stream",
     "text": [
      "Accuracy: 0.780\n",
      "Precision: 0.636\n",
      "Recall: 0.752\n",
      "f1_score: 0.689\n"
     ]
    }
   ],
   "source": [
    "from sklearn.neighbors import KNeighborsClassifier\n",
    "\n",
    "knn = KNeighborsClassifier(n_neighbors=7)\n",
    "knn.fit(X_train_scaled, y_train)\n",
    "y_naive_knn = knn.predict(X_train_scaled)\n",
    "\n",
    "    \n",
    "quality_report(y_naive_knn, y_train)"
   ]
  },
  {
   "cell_type": "markdown",
   "metadata": {
    "colab_type": "text",
    "id": "FUwSfZcil0vX"
   },
   "source": [
    "Наивный knn без подбора гиперпараметра оказался лучше чем раномный выбор."
   ]
  },
  {
   "cell_type": "markdown",
   "metadata": {
    "colab_type": "text",
    "id": "06gD7oUjsZ4y"
   },
   "source": [
    "### Задание 6 (1 балл)\n",
    "Добавьте в модель два новых сгенерированных признака. Если нужно, добавьте признаки, сгенерированные ohe-hot кодированием. Обучите ту же самую модель на расширенном множестве признаков. Улучшилось ли качество предсказания на кросс-валидации?"
   ]
  },
  {
   "cell_type": "code",
   "execution_count": null,
   "metadata": {
    "colab": {},
    "colab_type": "code",
    "id": "D0O8Y53wsZ4y"
   },
   "outputs": [],
   "source": [
    "<YOUR CODE>"
   ]
  },
  {
   "cell_type": "markdown",
   "metadata": {
    "colab_type": "text",
    "id": "4dErqGvdsZ43"
   },
   "source": [
    "## Дополнительное моделирование\n",
    "### Задание 7 (2 балла)\n",
    "Теперь более серьёзно подойдём к моделированию. Попробуйте несколько алгоритмов из тех, что мы проходили в курсе. Вам помогут ноутбуки с линейными алгоритмами и выбором модели. Хотя бы для одного алгоритма проведите подбор оптимального гиперпараметра. "
   ]
  },
  {
   "cell_type": "markdown",
   "metadata": {
    "colab_type": "text",
    "id": "dTCQxDlbpH_A"
   },
   "source": [
    "**Запустим перебор параметров на knn с помощью GridSearchCV**"
   ]
  },
  {
   "cell_type": "markdown",
   "metadata": {
    "colab_type": "text",
    "id": "3CN5GPj5txWq"
   },
   "source": [
    "А также посмотрим на точность по тестовой выборке"
   ]
  },
  {
   "cell_type": "code",
   "execution_count": 388,
   "metadata": {
    "colab": {
     "base_uri": "https://localhost:8080/",
     "height": 85
    },
    "colab_type": "code",
    "id": "jkXIfDvPt1fN",
    "outputId": "5be5e334-7e61-45c5-a8c3-01e54e7f8a44"
   },
   "outputs": [
    {
     "name": "stdout",
     "output_type": "stream",
     "text": [
      "Best CV score: 0.768, best CV k: 7\n",
      "Resulting test score: 0.753\n",
      "CPU times: user 15 s, sys: 2.44 ms, total: 15 s\n",
      "Wall time: 15 s\n"
     ]
    }
   ],
   "source": [
    "%%time\n",
    "from sklearn.model_selection import GridSearchCV\n",
    "\n",
    "param_grid = {\n",
    "        'n_neighbors': range(1, 50),\n",
    "        'p': range(1, 4)\n",
    "}\n",
    "\n",
    "knn = KNeighborsClassifier()\n",
    "\n",
    "grid_search_knn = GridSearchCV(knn, param_grid, cv=5, scoring='f1')\n",
    "grid_search_knn.fit(X_train, y_train)\n",
    "\n",
    "print(\"Best CV score: {:.3f}, best CV k: {}\".format(\n",
    "    grid_search_knn.best_score_, grid_search_knn.best_estimator_.n_neighbors)\n",
    ") \n",
    "\n",
    "\n",
    "test_predictions_knn = grid_search_knn.best_estimator_.predict(X_test)\n",
    "print(\"Resulting test score: {:.3f}\".format(f1_score(test_predictions_knn, y_test)))"
   ]
  },
  {
   "cell_type": "markdown",
   "metadata": {
    "colab_type": "text",
    "id": "VpxOXNXD2NWo"
   },
   "source": [
    "на трейн выборке"
   ]
  },
  {
   "cell_type": "code",
   "execution_count": 389,
   "metadata": {
    "colab": {
     "base_uri": "https://localhost:8080/",
     "height": 85
    },
    "colab_type": "code",
    "id": "Cb_EQAhGwJap",
    "outputId": "282c808f-ec9d-454a-f606-12c49548901a"
   },
   "outputs": [
    {
     "name": "stdout",
     "output_type": "stream",
     "text": [
      "Accuracy: 0.854\n",
      "Precision: 0.745\n",
      "Recall: 0.856\n",
      "f1_score: 0.796\n"
     ]
    }
   ],
   "source": [
    "quality_report(grid_search_knn.best_estimator_.predict(X_train), y_train)"
   ]
  },
  {
   "cell_type": "markdown",
   "metadata": {
    "colab_type": "text",
    "id": "hVHf4t6E2Sry"
   },
   "source": [
    "на тестовой выборке"
   ]
  },
  {
   "cell_type": "code",
   "execution_count": 390,
   "metadata": {
    "colab": {
     "base_uri": "https://localhost:8080/",
     "height": 85
    },
    "colab_type": "code",
    "id": "ofBy9qEK0jwc",
    "outputId": "dbfeee18-8cd7-4764-c7be-ab7cf48881bb"
   },
   "outputs": [
    {
     "name": "stdout",
     "output_type": "stream",
     "text": [
      "Accuracy: 0.828\n",
      "Precision: 0.680\n",
      "Recall: 0.843\n",
      "f1_score: 0.753\n"
     ]
    }
   ],
   "source": [
    "quality_report(test_predictions_knn, y_test)"
   ]
  },
  {
   "cell_type": "code",
   "execution_count": 391,
   "metadata": {
    "colab": {
     "base_uri": "https://localhost:8080/",
     "height": 295
    },
    "colab_type": "code",
    "id": "rbuhbPie0Flj",
    "outputId": "d3e1af27-8de9-4e59-98b3-3557ebc667b8"
   },
   "outputs": [
    {
     "data": {
      "image/png": "[encoded data removed]",
      "text/plain": [
       "<Figure size 432x288 with 1 Axes>"
      ]
     },
     "metadata": {
      "needs_background": "light",
      "tags": []
     },
     "output_type": "display_data"
    }
   ],
   "source": [
    "plot_roc_curve(test_predictions_knn, y_test)"
   ]
  },
  {
   "cell_type": "markdown",
   "metadata": {
    "colab_type": "text",
    "id": "vFNHqdUwxptg"
   },
   "source": [
    "**Построим дерево решений без настройки параметров**"
   ]
  },
  {
   "cell_type": "code",
   "execution_count": 392,
   "metadata": {
    "colab": {
     "base_uri": "https://localhost:8080/",
     "height": 119
    },
    "colab_type": "code",
    "id": "wKL6EbxQxvfN",
    "outputId": "ee6929f2-e96a-460c-fa76-29ab0ccf4ab3"
   },
   "outputs": [
    {
     "data": {
      "text/plain": [
       "DecisionTreeClassifier(ccp_alpha=0.0, class_weight=None, criterion='gini',\n",
       "                       max_depth=4, max_features=None, max_leaf_nodes=None,\n",
       "                       min_impurity_decrease=0.0, min_impurity_split=None,\n",
       "                       min_samples_leaf=1, min_samples_split=2,\n",
       "                       min_weight_fraction_leaf=0.0, presort='deprecated',\n",
       "                       random_state=42, splitter='best')"
      ]
     },
     "execution_count": 392,
     "metadata": {
      "tags": []
     },
     "output_type": "execute_result"
    }
   ],
   "source": [
    "from sklearn.tree import DecisionTreeClassifier\n",
    "from sklearn.ensemble import RandomForestClassifier\n",
    "\n",
    "first_tree = DecisionTreeClassifier(max_depth=4, random_state=42)\n",
    "first_tree.fit(X_train, y_train)"
   ]
  },
  {
   "cell_type": "code",
   "execution_count": 393,
   "metadata": {
    "colab": {
     "base_uri": "https://localhost:8080/",
     "height": 204
    },
    "colab_type": "code",
    "id": "1peL9_s3yBDE",
    "outputId": "ed97c009-00f2-4270-8214-10a7d6776015"
   },
   "outputs": [
    {
     "name": "stdout",
     "output_type": "stream",
     "text": [
      "Train quality\n",
      "Accuracy: 0.856\n",
      "Precision: 0.791\n",
      "Recall: 0.825\n",
      "f1_score: 0.808\n",
      "\n",
      "Test quality\n",
      "Accuracy: 0.817\n",
      "Precision: 0.757\n",
      "Recall: 0.765\n",
      "f1_score: 0.761\n"
     ]
    }
   ],
   "source": [
    "print(\"Train quality\")\n",
    "quality_report(first_tree.predict(X_train), y_train)\n",
    "\n",
    "print(\"\\nTest quality\")\n",
    "quality_report(first_tree.predict(X_test), y_test)"
   ]
  },
  {
   "cell_type": "markdown",
   "metadata": {
    "colab_type": "text",
    "id": "qGJw1ofsy9uu"
   },
   "source": [
    "Построим ROC-кривую"
   ]
  },
  {
   "cell_type": "code",
   "execution_count": 394,
   "metadata": {
    "colab": {
     "base_uri": "https://localhost:8080/",
     "height": 295
    },
    "colab_type": "code",
    "id": "xE9EqUWtzGPb",
    "outputId": "02f4f3db-fa88-4807-a3fa-4037f7174985"
   },
   "outputs": [
    {
     "data": {
      "image/png": "[encoded data removed]",
      "text/plain": [
       "<Figure size 432x288 with 1 Axes>"
      ]
     },
     "metadata": {
      "needs_background": "light",
      "tags": []
     },
     "output_type": "display_data"
    }
   ],
   "source": [
    "plot_roc_curve(first_tree.predict_proba(X_test)[:, 1], y_test)"
   ]
  },
  {
   "cell_type": "markdown",
   "metadata": {
    "colab_type": "text",
    "id": "0AAyHzcosZ47"
   },
   "source": [
    "## Результаты моделирования\n",
    "\n",
    "### Задание 8 (1 балл)\n",
    "Измерьте качество итоговой модели на кросс-валидации. Выполните предсказание на тестовом множестве и сохраните их в переменную ``y_test``. Измерьте итоговое качество на тестовом множестве."
   ]
  },
  {
   "cell_type": "markdown",
   "metadata": {
    "colab_type": "text",
    "id": "pP6Kqreq0t43"
   },
   "source": [
    "**Построим дерево решений с настройкой параметров с помощью GridSearch**"
   ]
  },
  {
   "cell_type": "code",
   "execution_count": 395,
   "metadata": {
    "colab": {
     "base_uri": "https://localhost:8080/",
     "height": 408
    },
    "colab_type": "code",
    "id": "QlkdQ1IWsZ48",
    "outputId": "35f6cead-9e80-46e0-a7a5-a52539629f8b"
   },
   "outputs": [
    {
     "name": "stdout",
     "output_type": "stream",
     "text": [
      "Fitting 5 folds for each of 128 candidates, totalling 640 fits\n"
     ]
    },
    {
     "name": "stderr",
     "output_type": "stream",
     "text": [
      "[Parallel(n_jobs=-1)]: Using backend LokyBackend with 2 concurrent workers.\n",
      "[Parallel(n_jobs=-1)]: Done 554 tasks      | elapsed:    4.0s\n",
      "[Parallel(n_jobs=-1)]: Done 640 out of 640 | elapsed:    4.3s finished\n"
     ]
    },
    {
     "data": {
      "text/plain": [
       "GridSearchCV(cv=5, error_score=nan,\n",
       "             estimator=DecisionTreeClassifier(ccp_alpha=0.0, class_weight=None,\n",
       "                                              criterion='gini', max_depth=None,\n",
       "                                              max_features=None,\n",
       "                                              max_leaf_nodes=None,\n",
       "                                              min_impurity_decrease=0.0,\n",
       "                                              min_impurity_split=None,\n",
       "                                              min_samples_leaf=1,\n",
       "                                              min_samples_split=2,\n",
       "                                              min_weight_fraction_leaf=0.0,\n",
       "                                              presort='deprecated',\n",
       "                                              random_state=42,\n",
       "                                              splitter='best'),\n",
       "             iid='deprecated', n_jobs=-1,\n",
       "             param_grid={'class_weight': [None, 'balanced'],\n",
       "                         'max_depth': [3, 4, 5, 6, 7, 8, 9, 10],\n",
       "                         'min_samples_leaf': [3, 4, 5, 6, 7, 8, 9, 10]},\n",
       "             pre_dispatch='2*n_jobs', refit=True, return_train_score=False,\n",
       "             scoring='roc_auc', verbose=True)"
      ]
     },
     "execution_count": 395,
     "metadata": {
      "tags": []
     },
     "output_type": "execute_result"
    }
   ],
   "source": [
    "tree_params = {\n",
    "               'max_depth': list(range(3,11)), \n",
    "               'min_samples_leaf': list(range(3,11)),\n",
    "               'class_weight': [None, 'balanced']\n",
    "}\n",
    "\n",
    "locally_best_tree = GridSearchCV(DecisionTreeClassifier(random_state=42), \n",
    "                                 tree_params, \n",
    "                                 verbose=True, n_jobs=-1, cv=5,\n",
    "                                scoring='roc_auc')\n",
    "locally_best_tree.fit(X_train, y_train)"
   ]
  },
  {
   "cell_type": "markdown",
   "metadata": {
    "colab_type": "text",
    "id": "bFhHO8aU1Kxh"
   },
   "source": [
    "Посмотрим на лучшие параметры модели и на оценку прогнозирования"
   ]
  },
  {
   "cell_type": "code",
   "execution_count": 396,
   "metadata": {
    "colab": {
     "base_uri": "https://localhost:8080/",
     "height": 34
    },
    "colab_type": "code",
    "id": "aduDMS8D1L-2",
    "outputId": "7688df7a-1fef-4901-a29a-0132026b2048"
   },
   "outputs": [
    {
     "data": {
      "text/plain": [
       "({'class_weight': None, 'max_depth': 3, 'min_samples_leaf': 3}, 0.862)"
      ]
     },
     "execution_count": 396,
     "metadata": {
      "tags": []
     },
     "output_type": "execute_result"
    }
   ],
   "source": [
    "locally_best_tree.best_params_, round(locally_best_tree.best_score_, 3)"
   ]
  },
  {
   "cell_type": "markdown",
   "metadata": {
    "colab_type": "text",
    "id": "iqZe6QpN1XvH"
   },
   "source": [
    "\n",
    "Оценим точность на тестовой выборке"
   ]
  },
  {
   "cell_type": "code",
   "execution_count": 397,
   "metadata": {
    "colab": {
     "base_uri": "https://localhost:8080/",
     "height": 85
    },
    "colab_type": "code",
    "id": "iHnXJpso1Yyg",
    "outputId": "48a2e973-cb64-4998-f30d-81300b0e71d9"
   },
   "outputs": [
    {
     "name": "stdout",
     "output_type": "stream",
     "text": [
      "Accuracy: 0.825\n",
      "Precision: 0.777\n",
      "Recall: 0.769\n",
      "f1_score: 0.773\n"
     ]
    }
   ],
   "source": [
    "quality_report(locally_best_tree.predict(X_test), y_test)"
   ]
  },
  {
   "cell_type": "markdown",
   "metadata": {
    "colab_type": "text",
    "id": "uZppMCAH3CYa"
   },
   "source": [
    "Построим ROC-кривую"
   ]
  },
  {
   "cell_type": "code",
   "execution_count": 398,
   "metadata": {
    "colab": {
     "base_uri": "https://localhost:8080/",
     "height": 295
    },
    "colab_type": "code",
    "id": "UuZHncYe3CwW",
    "outputId": "3c148b2f-3563-4aaa-e074-ef1c7b2d0c86"
   },
   "outputs": [
    {
     "data": {
      "image/png": "[encoded data removed]",
      "text/plain": [
       "<Figure size 432x288 with 1 Axes>"
      ]
     },
     "metadata": {
      "needs_background": "light",
      "tags": []
     },
     "output_type": "display_data"
    }
   ],
   "source": [
    "plot_roc_curve(locally_best_tree.predict_proba(X_test)[:, 1], y_test)"
   ]
  },
  {
   "cell_type": "markdown",
   "metadata": {
    "colab_type": "text",
    "id": "D4jSp7uM3gQG"
   },
   "source": [
    "**Используем логистическую регрессию**"
   ]
  },
  {
   "cell_type": "code",
   "execution_count": 399,
   "metadata": {
    "colab": {},
    "colab_type": "code",
    "id": "0W4hVV073lNf"
   },
   "outputs": [],
   "source": [
    "from sklearn.linear_model import LogisticRegressionCV\n",
    "from sklearn.model_selection import StratifiedKFold"
   ]
  },
  {
   "cell_type": "code",
   "execution_count": 401,
   "metadata": {
    "colab": {
     "base_uri": "https://localhost:8080/",
     "height": 357
    },
    "colab_type": "code",
    "id": "61A7Bu1S3mVx",
    "outputId": "23560f45-5ce1-4157-f5ef-19e9cb192283"
   },
   "outputs": [
    {
     "name": "stderr",
     "output_type": "stream",
     "text": [
      "/usr/local/lib/python3.6/dist-packages/sklearn/linear_model/_logistic.py:940: ConvergenceWarning: lbfgs failed to converge (status=1):\n",
      "STOP: TOTAL NO. of ITERATIONS REACHED LIMIT.\n",
      "\n",
      "Increase the number of iterations (max_iter) or scale the data as shown in:\n",
      "    https://scikit-learn.org/stable/modules/preprocessing.html\n",
      "Please also refer to the documentation for alternative solver options:\n",
      "    https://scikit-learn.org/stable/modules/linear_model.html#logistic-regression\n",
      "  extra_warning_msg=_LOGISTIC_SOLVER_CONVERGENCE_MSG)\n",
      "/usr/local/lib/python3.6/dist-packages/sklearn/linear_model/_logistic.py:940: ConvergenceWarning: lbfgs failed to converge (status=1):\n",
      "STOP: TOTAL NO. of ITERATIONS REACHED LIMIT.\n",
      "\n",
      "Increase the number of iterations (max_iter) or scale the data as shown in:\n",
      "    https://scikit-learn.org/stable/modules/preprocessing.html\n",
      "Please also refer to the documentation for alternative solver options:\n",
      "    https://scikit-learn.org/stable/modules/linear_model.html#logistic-regression\n",
      "  extra_warning_msg=_LOGISTIC_SOLVER_CONVERGENCE_MSG)\n"
     ]
    },
    {
     "name": "stdout",
     "output_type": "stream",
     "text": [
      "Accuracy: 0.836\n",
      "Precision: 0.777\n",
      "Recall: 0.792\n",
      "f1_score: 0.784\n"
     ]
    }
   ],
   "source": [
    "sfk = StratifiedKFold(n_splits=5)\n",
    "\n",
    "logit_cv = LogisticRegressionCV(Cs=1000, cv=sfk, solver='lbfgs')\n",
    "\n",
    "logit_cv.fit(X_train, y_train)\n",
    "\n",
    "quality_report(logit_cv.predict(X_test), y_test)\n",
    "\n",
    "\n"
   ]
  },
  {
   "cell_type": "code",
   "execution_count": 402,
   "metadata": {
    "colab": {
     "base_uri": "https://localhost:8080/",
     "height": 295
    },
    "colab_type": "code",
    "id": "UiiBiqZW4S7k",
    "outputId": "f7406c3c-d3e3-41f2-f9a2-aa2c1b269b29"
   },
   "outputs": [
    {
     "data": {
      "image/png": "[encoded data removed]",
      "text/plain": [
       "<Figure size 432x288 with 1 Axes>"
      ]
     },
     "metadata": {
      "needs_background": "light",
      "tags": []
     },
     "output_type": "display_data"
    }
   ],
   "source": [
    "plot_roc_curve(logit_cv.predict(X_test), y_test)"
   ]
  },
  {
   "cell_type": "markdown",
   "metadata": {
    "colab_type": "text",
    "id": "5jMsk6aX5sPP"
   },
   "source": [
    "**Построим RandomForest**"
   ]
  },
  {
   "cell_type": "code",
   "execution_count": 405,
   "metadata": {
    "colab": {},
    "colab_type": "code",
    "id": "S3hJz2q06xYH"
   },
   "outputs": [],
   "source": [
    "skf = StratifiedKFold(n_splits=5, shuffle=True, random_state=5)"
   ]
  },
  {
   "cell_type": "code",
   "execution_count": 406,
   "metadata": {
    "colab": {
     "base_uri": "https://localhost:8080/",
     "height": 442
    },
    "colab_type": "code",
    "id": "UWLQ-R_J5rnR",
    "outputId": "a9235138-b3ea-4b97-804d-23b41a146137"
   },
   "outputs": [
    {
     "name": "stdout",
     "output_type": "stream",
     "text": [
      "Fitting 5 folds for each of 36 candidates, totalling 180 fits\n"
     ]
    },
    {
     "name": "stderr",
     "output_type": "stream",
     "text": [
      "[Parallel(n_jobs=-1)]: Using backend LokyBackend with 2 concurrent workers.\n",
      "[Parallel(n_jobs=-1)]: Done  46 tasks      | elapsed:   11.1s\n",
      "[Parallel(n_jobs=-1)]: Done 180 out of 180 | elapsed:   39.6s finished\n"
     ]
    },
    {
     "data": {
      "text/plain": [
       "GridSearchCV(cv=StratifiedKFold(n_splits=5, random_state=5, shuffle=True),\n",
       "             error_score=nan,\n",
       "             estimator=RandomForestClassifier(bootstrap=True, ccp_alpha=0.0,\n",
       "                                              class_weight='balanced',\n",
       "                                              criterion='gini', max_depth=None,\n",
       "                                              max_features='auto',\n",
       "                                              max_leaf_nodes=None,\n",
       "                                              max_samples=None,\n",
       "                                              min_impurity_decrease=0.0,\n",
       "                                              min_impurity_split=None,\n",
       "                                              min_samples_leaf=1,\n",
       "                                              min_samples_split=2,\n",
       "                                              min_weight_fraction_leaf=0.0,\n",
       "                                              n_estimators=100, n_jobs=-1,\n",
       "                                              oob_score=True, random_state=42,\n",
       "                                              verbose=0, warm_start=False),\n",
       "             iid='deprecated', n_jobs=-1,\n",
       "             param_grid={'max_depth': [5, 10, 15], 'max_features': [1, 2, 4],\n",
       "                         'min_samples_leaf': [3, 5, 7, 9]},\n",
       "             pre_dispatch='2*n_jobs', refit=True, return_train_score=False,\n",
       "             scoring=None, verbose=1)"
      ]
     },
     "execution_count": 406,
     "metadata": {
      "tags": []
     },
     "output_type": "execute_result"
    }
   ],
   "source": [
    "from sklearn.ensemble import RandomForestClassifier\n",
    "\n",
    "# Инициализируем случайный лес с 100 деревьями и сбалансированными классами \n",
    "rf = RandomForestClassifier(n_estimators=100, n_jobs=-1, \n",
    "                            random_state=42, oob_score=True, \n",
    "                            class_weight='balanced')\n",
    "\n",
    "## Будем искать лучшие параметры среди следующего набора\n",
    "parameters = {'max_features': [1, 2, 4], \n",
    "              'min_samples_leaf': [3, 5, 7, 9], \n",
    "              'max_depth': [5,10,15]}\n",
    "\n",
    "\n",
    "gcv = GridSearchCV(rf, parameters, n_jobs=-1, cv=skf, verbose=1)\n",
    "gcv.fit(X_train, y_train)"
   ]
  },
  {
   "cell_type": "code",
   "execution_count": 407,
   "metadata": {
    "colab": {
     "base_uri": "https://localhost:8080/",
     "height": 34
    },
    "colab_type": "code",
    "id": "MzJ71O8a7CBW",
    "outputId": "2511eecf-f7b4-4ef3-89f4-32996de8fe7b"
   },
   "outputs": [
    {
     "data": {
      "text/plain": [
       "({'max_depth': 10, 'max_features': 2, 'min_samples_leaf': 3}, 0.814)"
      ]
     },
     "execution_count": 407,
     "metadata": {
      "tags": []
     },
     "output_type": "execute_result"
    }
   ],
   "source": [
    "gcv.best_params_, round(gcv.best_score_, 3)"
   ]
  },
  {
   "cell_type": "code",
   "execution_count": 410,
   "metadata": {
    "colab": {
     "base_uri": "https://localhost:8080/",
     "height": 85
    },
    "colab_type": "code",
    "id": "NRfbvhg_7aXt",
    "outputId": "ca36b98b-ff20-4eed-b154-f4297fb91c5d"
   },
   "outputs": [
    {
     "name": "stdout",
     "output_type": "stream",
     "text": [
      "Accuracy: 0.806\n",
      "Precision: 0.767\n",
      "Recall: 0.738\n",
      "f1_score: 0.752\n"
     ]
    }
   ],
   "source": [
    "quality_report(gcv.best_estimator_.predict(X_test), y_test)"
   ]
  },
  {
   "cell_type": "code",
   "execution_count": 411,
   "metadata": {
    "colab": {
     "base_uri": "https://localhost:8080/",
     "height": 295
    },
    "colab_type": "code",
    "id": "J10L-f6m7I8Y",
    "outputId": "4e95e045-c843-4571-a0a2-1f27c446da8d"
   },
   "outputs": [
    {
     "data": {
      "image/png": "[encoded data removed]",
      "text/plain": [
       "<Figure size 432x288 with 1 Axes>"
      ]
     },
     "metadata": {
      "needs_background": "light",
      "tags": []
     },
     "output_type": "display_data"
    }
   ],
   "source": [
    "plot_roc_curve(gcv.best_estimator_.predict(X_test), y_test)"
   ]
  },
  {
   "cell_type": "markdown",
   "metadata": {
    "colab_type": "text",
    "id": "7zXptJ9xsZ4_"
   },
   "source": [
    "## Выводы\n",
    "### Задание 9 (3 балла)\n",
    "Сделайте выводы. Какие из идей сработали? Какие оказались лишними?"
   ]
  },
  {
   "cell_type": "markdown",
   "metadata": {
    "colab_type": "text",
    "id": "D8MrsfmY8Qun"
   },
   "source": [
    "В результате тестов всех алгоритмов классификация, лучший результат показало дерево решений. Я протестировал нормализацию количественных данных, результат удивил. При использовании нормализации, все алгоритмы показывали качесто хуже, чем если бы нормализации не было."
   ]
  },
  {
   "cell_type": "markdown",
   "metadata": {
    "colab_type": "text",
    "id": "xQbiNj5h829F"
   },
   "source": [
    "Возможно еще можно улучшить качество прогнозирования, если синтезировать дополнительно признаки. У меня нет больше идей как можно вытянуть доолнительные признаки."
   ]
  },
  {
   "cell_type": "code",
   "execution_count": 413,
   "metadata": {
    "colab": {
     "base_uri": "https://localhost:8080/",
     "height": 378
    },
    "colab_type": "code",
    "id": "J2_g8P9y8z_i",
    "outputId": "83761522-b387-46e6-b95c-34a517886d63"
   },
   "outputs": [
    {
     "data": {
      "text/plain": [
       "<matplotlib.axes._subplots.AxesSubplot at 0x7f01f8a85d68>"
      ]
     },
     "execution_count": 413,
     "metadata": {
      "tags": []
     },
     "output_type": "execute_result"
    },
    {
     "data": {
      "image/png": "[encoded data removed]",
      "text/plain": [
       "<Figure size 432x288 with 1 Axes>"
      ]
     },
     "metadata": {
      "needs_background": "light",
      "tags": []
     },
     "output_type": "display_data"
    }
   ],
   "source": [
    "\n",
    "featureImportance = pd.DataFrame({\"feature\": X_train.columns, \n",
    "                                  \"importance\": locally_best_tree.best_estimator_.feature_importances_})\n",
    "\n",
    "featureImportance.set_index('feature', inplace=True)\n",
    "featureImportance.sort_values([\"importance\"], ascending=False, inplace=True)\n",
    "featureImportance[\"importance\"].plot(kind='bar')"
   ]
  },
  {
   "cell_type": "markdown",
   "metadata": {
    "colab_type": "text",
    "id": "I1hf2xeZ91wM"
   },
   "source": [
    "Самыми важными признаками при прогнозировани с помощью алгоритма дерево решений оказались: семейное положение мужчины Mr, стоимость билета и каюта в 3 классе."
   ]
  }
 ],
 "metadata": {
  "colab": {
   "collapsed_sections": [],
   "name": "Копия блокнота \"homework_module_1.ipynb\"",
   "provenance": []
  },
  "kernelspec": {
   "display_name": "Python 3",
   "language": "python",
   "name": "python3"
  },
  "language_info": {
   "codemirror_mode": {
    "name": "ipython",
    "version": 3
   },
   "file_extension": ".py",
   "mimetype": "text/x-python",
   "name": "python",
   "nbconvert_exporter": "python",
   "pygments_lexer": "ipython3",
   "version": "3.7.4"
  }
 },
 "nbformat": 4,
 "nbformat_minor": 1
}
